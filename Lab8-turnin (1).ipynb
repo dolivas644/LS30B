{
 "cells": [
  {
   "cell_type": "code",
   "execution_count": 0,
   "metadata": {
    "collapsed": false
   },
   "outputs": [
   ],
   "source": [
    "# Name: Diaana Olivas\n",
    "# I worked on this code with:\n",
    "\n",
    "# Please do all of your work for this week's lab in this worksheet. If\n",
    "# you wish to create other worksheets for scratch work, you can, but\n",
    "# this is the one that will be graded. You do not need to do anything\n",
    "# to turn in your lab. It will be collected by your TA at the beginning\n",
    "# of (or right before) next week’s lab.\n",
    "\n",
    "# Be sure to clearly label which question you are answering as you go and to\n",
    "# use enough comments that you and the grader can understand your code.\n"
   ]
  },
  {
   "cell_type": "code",
   "execution_count": 0,
   "metadata": {
    "collapsed": false
   },
   "outputs": [
   ],
   "source": [
    "#1\n",
    "# The life cycle of Avicennia marina starts with the form of female gametophytes.About 1/3 of flower primordia, containing four ovules, survive to become open flowers but only 3% (0.75% of ovules) survive to become viable fruits some ten months after the initiation of flower buds.\n",
    "#About 25% of established seedlings can recruit to a sapling stage (10 years) if the regeneration niche is large, whereas after small gap disturbance about 10% recruit to this stage.(mortality = 1-R-G)\n",
    "# Plants as young as 5 years can produce viable propag- ules, but under conditions of crowding and rapid growth most of the plants appear not to be fecund until they become a small tree (ca 20y).\n",
    "# Mature trees are only fecund every few years, averaged over an estimated life time of about a century an individual produces about 250 propagules each year.\n",
    "# propagules-->cotyledons-->seedlings-->saplings-->young tree-->tree-->older tree "
   ]
  },
  {
   "cell_type": "code",
   "execution_count": 7,
   "metadata": {
    "collapsed": false
   },
   "outputs": [
    {
     "data": {
      "text/html": [
       "<html><script type=\"math/tex; mode=display\">\\newcommand{\\Bold}[1]{\\mathbf{#1}}\\left(\\begin{array}{rrrrrrr}\n",
       "0.0 & 0.0 & 0.0 & 0.0 & 0.0 & 500.0 & 1000.0 \\\\\n",
       "0.2 & 0.666 & 0.0 & 0.0 & 0.0 & 0.0 & 0.0 \\\\\n",
       "0.0 & 0.083 & 0.825 & 0.0 & 0.0 & 0.0 & 0.0 \\\\\n",
       "0.0 & 0.0 & 0.01 & 0.909 & 0.0 & 0.0 & 0.0 \\\\\n",
       "0.0 & 0.0 & 0.0 & 0.073 & 0.963 & 0.0 & 0.0 \\\\\n",
       "0.0 & 0.0 & 0.0 & 0.0 & 0.008 & 0.98 & 0.0 \\\\\n",
       "0.0 & 0.0 & 0.0 & 0.0 & 0.0 & 0.012 & 0.999\n",
       "\\end{array}\\right)</script></html>"
      ],
      "text/latex": [
       "\\begin{math}\n",
       "\\newcommand{\\Bold}[1]{\\mathbf{#1}}\\left(\\begin{array}{rrrrrrr}\n",
       "0.0 & 0.0 & 0.0 & 0.0 & 0.0 & 500.0 & 1000.0 \\\\\n",
       "0.2 & 0.666 & 0.0 & 0.0 & 0.0 & 0.0 & 0.0 \\\\\n",
       "0.0 & 0.083 & 0.825 & 0.0 & 0.0 & 0.0 & 0.0 \\\\\n",
       "0.0 & 0.0 & 0.01 & 0.909 & 0.0 & 0.0 & 0.0 \\\\\n",
       "0.0 & 0.0 & 0.0 & 0.073 & 0.963 & 0.0 & 0.0 \\\\\n",
       "0.0 & 0.0 & 0.0 & 0.0 & 0.008 & 0.98 & 0.0 \\\\\n",
       "0.0 & 0.0 & 0.0 & 0.0 & 0.0 & 0.012 & 0.999\n",
       "\\end{array}\\right)\n",
       "\\end{math}"
      ],
      "text/plain": [
       "[   0.0    0.0    0.0    0.0    0.0  500.0 1000.0]\n",
       "[   0.2  0.666    0.0    0.0    0.0    0.0    0.0]\n",
       "[   0.0  0.083  0.825    0.0    0.0    0.0    0.0]\n",
       "[   0.0    0.0   0.01  0.909    0.0    0.0    0.0]\n",
       "[   0.0    0.0    0.0  0.073  0.963    0.0    0.0]\n",
       "[   0.0    0.0    0.0    0.0  0.008   0.98    0.0]\n",
       "[   0.0    0.0    0.0    0.0    0.0  0.012  0.999]"
      ]
     },
     "execution_count": 7,
     "metadata": {
     },
     "output_type": "execute_result"
    }
   ],
   "source": [
    "#Exercise 2\n",
    "TypeA= matrix(RDF,[[0,0,0,0,0,500,1000],[0.200,0.666,0,0,0,0,0],[0,0.083,0.825,0,0,0,0],[0,0,0.010,0.909,0,0,0],[0,0,0,0.073,0.963,0,0],[0,0,0,0,0.008,0.980,0],[0,0,0,0,0,0.012,0.999]])\n",
    "show(TypeA)"
   ]
  },
  {
   "cell_type": "code",
   "execution_count": 8,
   "metadata": {
    "collapsed": false
   },
   "outputs": [
    {
     "ename": "TypeError",
     "evalue": "unsupported operand parent(s) for *: 'Full MatrixSpace of 7 by 7 dense matrices over Real Double Field' and 'Ambient free module of rank 5 over the principal ideal domain Integer Ring'",
     "output_type": "error",
     "traceback": [
      "\u001b[0;31m---------------------------------------------------------------------------\u001b[0m",
      "\u001b[0;31mTypeError\u001b[0m                                 Traceback (most recent call last)",
      "\u001b[0;32m<ipython-input-8-cd7518f54d7e>\u001b[0m in \u001b[0;36m<module>\u001b[0;34m\u001b[0m\n\u001b[1;32m      3\u001b[0m \u001b[0mans\u001b[0m \u001b[0;34m=\u001b[0m \u001b[0;34m[\u001b[0m\u001b[0mics\u001b[0m\u001b[0;34m]\u001b[0m\u001b[0;34m\u001b[0m\u001b[0;34m\u001b[0m\u001b[0m\n\u001b[1;32m      4\u001b[0m \u001b[0;32mfor\u001b[0m \u001b[0mi\u001b[0m \u001b[0;32min\u001b[0m \u001b[0msrange\u001b[0m\u001b[0;34m(\u001b[0m\u001b[0mInteger\u001b[0m\u001b[0;34m(\u001b[0m\u001b[0;36m0\u001b[0m\u001b[0;34m)\u001b[0m\u001b[0;34m,\u001b[0m\u001b[0mInteger\u001b[0m\u001b[0;34m(\u001b[0m\u001b[0;36m10\u001b[0m\u001b[0;34m)\u001b[0m\u001b[0;34m,\u001b[0m\u001b[0mInteger\u001b[0m\u001b[0;34m(\u001b[0m\u001b[0;36m1\u001b[0m\u001b[0;34m)\u001b[0m\u001b[0;34m)\u001b[0m\u001b[0;34m:\u001b[0m\u001b[0;34m\u001b[0m\u001b[0;34m\u001b[0m\u001b[0m\n\u001b[0;32m----> 5\u001b[0;31m     \u001b[0maa\u001b[0m \u001b[0;34m=\u001b[0m \u001b[0mTypeA\u001b[0m\u001b[0;34m*\u001b[0m\u001b[0mics\u001b[0m\u001b[0;34m\u001b[0m\u001b[0;34m\u001b[0m\u001b[0m\n\u001b[0m\u001b[1;32m      6\u001b[0m     \u001b[0mans\u001b[0m\u001b[0;34m.\u001b[0m\u001b[0mappend\u001b[0m\u001b[0;34m(\u001b[0m\u001b[0maa\u001b[0m\u001b[0;34m)\u001b[0m\u001b[0;34m\u001b[0m\u001b[0;34m\u001b[0m\u001b[0m\n\u001b[1;32m      7\u001b[0m     \u001b[0mics\u001b[0m\u001b[0;34m=\u001b[0m\u001b[0maa\u001b[0m\u001b[0;34m\u001b[0m\u001b[0;34m\u001b[0m\u001b[0m\n",
      "\u001b[0;32m/ext/sage/sage-9.2/local/lib/python3.8/site-packages/sage/structure/element.pyx\u001b[0m in \u001b[0;36msage.structure.element.Matrix.__mul__ (build/cythonized/sage/structure/element.c:23925)\u001b[0;34m()\u001b[0m\n\u001b[1;32m   3813\u001b[0m \u001b[0;34m\u001b[0m\u001b[0m\n\u001b[1;32m   3814\u001b[0m         \u001b[0;32mif\u001b[0m \u001b[0mBOTH_ARE_ELEMENT\u001b[0m\u001b[0;34m(\u001b[0m\u001b[0mcl\u001b[0m\u001b[0;34m)\u001b[0m\u001b[0;34m:\u001b[0m\u001b[0;34m\u001b[0m\u001b[0;34m\u001b[0m\u001b[0m\n\u001b[0;32m-> 3815\u001b[0;31m             \u001b[0;32mreturn\u001b[0m \u001b[0mcoercion_model\u001b[0m\u001b[0;34m.\u001b[0m\u001b[0mbin_op\u001b[0m\u001b[0;34m(\u001b[0m\u001b[0mleft\u001b[0m\u001b[0;34m,\u001b[0m \u001b[0mright\u001b[0m\u001b[0;34m,\u001b[0m \u001b[0mmul\u001b[0m\u001b[0;34m)\u001b[0m\u001b[0;34m\u001b[0m\u001b[0;34m\u001b[0m\u001b[0m\n\u001b[0m\u001b[1;32m   3816\u001b[0m \u001b[0;34m\u001b[0m\u001b[0m\n\u001b[1;32m   3817\u001b[0m         \u001b[0mcdef\u001b[0m \u001b[0mlong\u001b[0m \u001b[0mvalue\u001b[0m\u001b[0;34m\u001b[0m\u001b[0;34m\u001b[0m\u001b[0m\n",
      "\u001b[0;32m/ext/sage/sage-9.2/local/lib/python3.8/site-packages/sage/structure/coerce.pyx\u001b[0m in \u001b[0;36msage.structure.coerce.CoercionModel.bin_op (build/cythonized/sage/structure/coerce.c:11304)\u001b[0;34m()\u001b[0m\n\u001b[1;32m   1246\u001b[0m         \u001b[0;31m# We should really include the underlying error.\u001b[0m\u001b[0;34m\u001b[0m\u001b[0;34m\u001b[0m\u001b[0;34m\u001b[0m\u001b[0m\n\u001b[1;32m   1247\u001b[0m         \u001b[0;31m# This causes so much headache.\u001b[0m\u001b[0;34m\u001b[0m\u001b[0;34m\u001b[0m\u001b[0;34m\u001b[0m\u001b[0m\n\u001b[0;32m-> 1248\u001b[0;31m         \u001b[0;32mraise\u001b[0m \u001b[0mbin_op_exception\u001b[0m\u001b[0;34m(\u001b[0m\u001b[0mop\u001b[0m\u001b[0;34m,\u001b[0m \u001b[0mx\u001b[0m\u001b[0;34m,\u001b[0m \u001b[0my\u001b[0m\u001b[0;34m)\u001b[0m\u001b[0;34m\u001b[0m\u001b[0;34m\u001b[0m\u001b[0m\n\u001b[0m\u001b[1;32m   1249\u001b[0m \u001b[0;34m\u001b[0m\u001b[0m\n\u001b[1;32m   1250\u001b[0m     \u001b[0mcpdef\u001b[0m \u001b[0mcanonical_coercion\u001b[0m\u001b[0;34m(\u001b[0m\u001b[0mself\u001b[0m\u001b[0;34m,\u001b[0m \u001b[0mx\u001b[0m\u001b[0;34m,\u001b[0m \u001b[0my\u001b[0m\u001b[0;34m)\u001b[0m\u001b[0;34m:\u001b[0m\u001b[0;34m\u001b[0m\u001b[0;34m\u001b[0m\u001b[0m\n",
      "\u001b[0;31mTypeError\u001b[0m: unsupported operand parent(s) for *: 'Full MatrixSpace of 7 by 7 dense matrices over Real Double Field' and 'Ambient free module of rank 5 over the principal ideal domain Integer Ring'"
     ]
    }
   ],
   "source": [
    "#Exercise 3\n",
    "ics = vector([100,20,60,3,12])\n",
    "ans = [ics]\n",
    "for i in srange(0,10,1):\n",
    "    aa = TypeA*ics\n",
    "    ans.append(aa)\n",
    "    ics=aa\n",
    "show(ans)\n",
    "propagulesA =[]\n",
    "for i in srange(len(ans)):\n",
    "    A=ans[i][0]\n",
    "    propagulesA.append(A)\n",
    "cotyledonsA =[]\n",
    "for i in srange(len(ans)):\n",
    "    B=ans[i][1]\n",
    "    cotyledonsA.append(B)\n",
    "seedlingsA = []  \n",
    "for i in srange(len(ans)):\n",
    "    C=ans[i][2]\n",
    "    seedlingsA.append(C)\n",
    "saplingsA = []  \n",
    "for i in srange(len(ans)):\n",
    "    D=ans[i][3]\n",
    "    saplingsA.append(D)\n",
    "youngtreeA = []  \n",
    "for i in srange(len(ans)):\n",
    "    E=ans[i][4]\n",
    "    youngtreeA.append(E)\n",
    "treeA = []  \n",
    "for i in srange(len(ans)):\n",
    "    F=ans[i][5]\n",
    "    treeA.append(F)\n",
    "oldertreeA = []\n",
    "for i in srange(len(ans)):\n",
    "    G=ans[i][6]\n",
    "    oldertreeA.append(G)\n",
    "list_plot(propagulesA, color=\"blue\", legend_label=\"Propagules population\", legend_color=\"black\", plotjoined=True, title=\"Propagules\", figsize=5)"
   ]
  },
  {
   "cell_type": "code",
   "execution_count": 10,
   "metadata": {
    "collapsed": false
   },
   "outputs": [
    {
     "data": {
      "text/html": [
       "<html><script type=\"math/tex; mode=display\">\\newcommand{\\Bold}[1]{\\mathbf{#1}}\\left[\\left(100,\\,20,\\,5,\\,0,\\,60,\\,3,\\,40\\right), \\left(41500.0,\\,33.32,\\,5.785,\\,0.05,\\,57.78,\\,3.42,\\,39.996\\right), \\left(41706.0,\\,8322.19112,\\,7.538185,\\,0.1033,\\,55.64579,\\,3.81384,\\,39.997044\\right), \\left(41903.964,\\,13883.779285920002,\\,696.9608655850001,\\,0.16928155,\\,53.59443667,\\,4.18272952,\\,40.002813036\\right), \\left(42094.177795999996,\\,17627.389804422724,\\,1727.3463948389851,\\,7.123485584800001,\\,51.62380006636,\\,4.527830422959999,\\,40.013002977203996\\right), \\left(42276.918188683994,\\,20158.677168945535,\\,2888.134129509249,\\,23.748712344973054,\\,50.233733911595074,\\,4.85026421503168,\\,40.02732393930231\\right), \\left(42452.45604681815,\\,21881.062632254525,\\,4055.8808618676094,\\,50.468920816673,\\,50.10874175804909,\\,5.155128802023806,\\,40.04549978594339\\right), \\left(42623.06418695529,\\,23063.278922445144,\\,5162.229909517903,\\,86.43505764103185,\\,51.93894953261841,\\,5.452896160047723,\\,40.067315831781734\\right), \\left(42793.763911805596,\\,23884.75659973953,\\,6173.091825915217,\\,130.191766490877,\\,56.32696760770685,\\,5.7593498331077155,\\,40.09268326987053\\right), \\left(42972.35818642438,\\,24466.000677787648,\\,7075.235554158435,\\,180.07523399935937,\\,63.74686876005571,\\,6.094778577307216,\\,40.12170278459795\\right), \\left(43169.09207325156,\\,24888.82808869145,\\,7867.747388437083,\\,234.44074324700205,\\,74.53372669788688,\\,6.482857955841518,\\,40.15471842474104\\right)\\right]</script></html>"
      ],
      "text/latex": [
       "\\begin{math}\n",
       "\\newcommand{\\Bold}[1]{\\mathbf{#1}}\\left[\\left(100,\\,20,\\,5,\\,0,\\,60,\\,3,\\,40\\right), \\left(41500.0,\\,33.32,\\,5.785,\\,0.05,\\,57.78,\\,3.42,\\,39.996\\right), \\left(41706.0,\\,8322.19112,\\,7.538185,\\,0.1033,\\,55.64579,\\,3.81384,\\,39.997044\\right), \\left(41903.964,\\,13883.779285920002,\\,696.9608655850001,\\,0.16928155,\\,53.59443667,\\,4.18272952,\\,40.002813036\\right), \\left(42094.177795999996,\\,17627.389804422724,\\,1727.3463948389851,\\,7.123485584800001,\\,51.62380006636,\\,4.527830422959999,\\,40.013002977203996\\right), \\left(42276.918188683994,\\,20158.677168945535,\\,2888.134129509249,\\,23.748712344973054,\\,50.233733911595074,\\,4.85026421503168,\\,40.02732393930231\\right), \\left(42452.45604681815,\\,21881.062632254525,\\,4055.8808618676094,\\,50.468920816673,\\,50.10874175804909,\\,5.155128802023806,\\,40.04549978594339\\right), \\left(42623.06418695529,\\,23063.278922445144,\\,5162.229909517903,\\,86.43505764103185,\\,51.93894953261841,\\,5.452896160047723,\\,40.067315831781734\\right), \\left(42793.763911805596,\\,23884.75659973953,\\,6173.091825915217,\\,130.191766490877,\\,56.32696760770685,\\,5.7593498331077155,\\,40.09268326987053\\right), \\left(42972.35818642438,\\,24466.000677787648,\\,7075.235554158435,\\,180.07523399935937,\\,63.74686876005571,\\,6.094778577307216,\\,40.12170278459795\\right), \\left(43169.09207325156,\\,24888.82808869145,\\,7867.747388437083,\\,234.44074324700205,\\,74.53372669788688,\\,6.482857955841518,\\,40.15471842474104\\right)\\right]\n",
       "\\end{math}"
      ],
      "text/plain": [
       "[(100, 20, 5, 0, 60, 3, 40),\n",
       " (41500.0, 33.32, 5.785, 0.05, 57.78, 3.42, 39.996),\n",
       " (41706.0, 8322.19112, 7.538185, 0.1033, 55.64579, 3.81384, 39.997044),\n",
       " (41903.964, 13883.779285920002, 696.9608655850001, 0.16928155, 53.59443667, 4.18272952, 40.002813036),\n",
       " (42094.177795999996, 17627.389804422724, 1727.3463948389851, 7.123485584800001, 51.62380006636, 4.527830422959999, 40.013002977203996),\n",
       " (42276.918188683994, 20158.677168945535, 2888.134129509249, 23.748712344973054, 50.233733911595074, 4.85026421503168, 40.02732393930231),\n",
       " (42452.45604681815, 21881.062632254525, 4055.8808618676094, 50.468920816673, 50.10874175804909, 5.155128802023806, 40.04549978594339),\n",
       " (42623.06418695529, 23063.278922445144, 5162.229909517903, 86.43505764103185, 51.93894953261841, 5.452896160047723, 40.067315831781734),\n",
       " (42793.763911805596, 23884.75659973953, 6173.091825915217, 130.191766490877, 56.32696760770685, 5.7593498331077155, 40.09268326987053),\n",
       " (42972.35818642438, 24466.000677787648, 7075.235554158435, 180.07523399935937, 63.74686876005571, 6.094778577307216, 40.12170278459795),\n",
       " (43169.09207325156, 24888.82808869145, 7867.747388437083, 234.44074324700205, 74.53372669788688, 6.482857955841518, 40.15471842474104)]"
      ]
     },
     "execution_count": 10,
     "metadata": {
     },
     "output_type": "execute_result"
    },
    {
     "data": {
      "image/png": "[encoded data removed]",
      "text/plain": [
       "Graphics object consisting of 1 graphics primitive"
      ]
     },
     "execution_count": 10,
     "metadata": {
     },
     "output_type": "execute_result"
    }
   ],
   "source": [
    "#Exercise 3 fixed\n",
    "ics = vector([100,20,5,0,60,3,40]) \n",
    "ans = [ics]  \n",
    "for i in srange(0,10,1):   \n",
    "    aa = TypeA*ics\n",
    "    ans.append(aa)\n",
    "    ics=aa\n",
    "show(ans)\n",
    "\n",
    "\n",
    "propagulesA = []  \n",
    "for i in srange(len(ans)):  \n",
    "    A=ans[i][0] \n",
    "    propagulesA.append(A)\n",
    "\n",
    "cotyledonsA = []  \n",
    "for i in srange(len(ans)): \n",
    "    B=ans[i][1] \n",
    "    cotyledonsA.append(B)\n",
    "\n",
    "seedlingsA = []  \n",
    "for i in srange(len(ans)):\n",
    "    C=ans[i][2] \n",
    "    seedlingsA.append(C)\n",
    "\n",
    "saplingsA = []  \n",
    "for i in srange(len(ans)):\n",
    "    D=ans[i][3] \n",
    "    saplingsA.append(D)\n",
    "\n",
    "youngtreeA = []  \n",
    "for i in srange(len(ans)):  \n",
    "    E=ans[i][4] \n",
    "    youngtreeA.append(E)\n",
    "\n",
    "treeA = []  \n",
    "for i in srange(len(ans)):  \n",
    "    F=ans[i][5]\n",
    "    treeA.append(F)\n",
    "\n",
    "oldertreeA = []  \n",
    "for i in srange(len(ans)):  \n",
    "    G=ans[i][6]\n",
    "    oldertreeA.append(G)\n",
    "\n",
    "list_plot(propagulesA, color=\"green\", legend_label=\"Propagules population\", legend_color=\"black\", plotjoined=True, title=\"Propagules\", figsize=5) "
   ]
  },
  {
   "cell_type": "code",
   "execution_count": 11,
   "metadata": {
    "collapsed": false
   },
   "outputs": [
    {
     "data": {
      "image/png": "[encoded data removed]",
      "text/plain": [
       "Graphics object consisting of 2 graphics primitives"
      ]
     },
     "execution_count": 11,
     "metadata": {
     },
     "output_type": "execute_result"
    }
   ],
   "source": [
    "list_plot(cotyledonsA, color=\"green\", legend_label=\"Cotyledons\", legend_color=\"black\", plotjoined=True, title=\"Cotyledons & Older Tree\", figsize=5) + list_plot(oldertreeA, color=\"blue\", legend_label=\"Older Tree\", legend_color=\"black\", plotjoined=True, figsize=5, thickness=3)"
   ]
  },
  {
   "cell_type": "code",
   "execution_count": 12,
   "metadata": {
    "collapsed": false
   },
   "outputs": [
    {
     "data": {
      "image/png": "[encoded data removed]",
      "text/plain": [
       "Graphics object consisting of 7 graphics primitives"
      ]
     },
     "execution_count": 12,
     "metadata": {
     },
     "output_type": "execute_result"
    }
   ],
   "source": [
    "list_plot(propagulesA, color=\"yellow\", legend_label=\"Propagules\", legend_color=\"black\", plotjoined=True, title=\"All Stages\", figsize=5, ymax=3000)+ list_plot(cotyledonsA, color=\"orange\", legend_label=\"Cotyledons\", legend_color=\"black\", plotjoined=True) +  list_plot(seedlingsA, color=\"red\", legend_label=\"Seedlings\", legend_color=\"black\", plotjoined=True) + list_plot(saplingsA, color=\"pink\", legend_label=\"Saplings\", legend_color=\"black\", plotjoined=True) + list_plot(youngtreeA, color=\"green\", legend_label=\"Young tree\", legend_color=\"black\", plotjoined=True) + list_plot(treeA, color=\"purple\", legend_label=\"Tree\", legend_color=\"black\", plotjoined=True) + list_plot(oldertreeA, color=\"blue\", legend_label=\"Older tree\", legend_color=\"black\", plotjoined=True)"
   ]
  },
  {
   "cell_type": "code",
   "execution_count": 13,
   "metadata": {
    "collapsed": false
   },
   "outputs": [
    {
     "data": {
      "text/plain": [
       "(1.048140178442451,\n",
       " [(-0.8729866710666837, -0.4568934230495471, -0.16994767315242945, -0.012214133620844852, -0.010472514512338323, -0.0012295259274889008, -0.00030024944144526564)],\n",
       " 1)"
      ]
     },
     "execution_count": 13,
     "metadata": {
     },
     "output_type": "execute_result"
    }
   ],
   "source": [
    "#Exercise 4\n",
    "max(TypeA.eigenvectors_right())\n",
    "#The mangrove popultion will grow with in this situation because the dominant eigenvalue is greater than one."
   ]
  },
  {
   "cell_type": "code",
   "execution_count": 1,
   "metadata": {
    "collapsed": false
   },
   "outputs": [
    {
     "data": {
      "text/plain": [
       "(2.90753803525668e6, 1.52171281601813e6, 566021.613010762, 40679.9545139918, 34879.3804975235, 4095.01487020431, 1000.00000000000)"
      ]
     },
     "execution_count": 1,
     "metadata": {
     },
     "output_type": "execute_result"
    }
   ],
   "source": [
    "#Exercise 5\n",
    "EV=vector([-0.8729866710666837, -0.4568934230495469, -0.1699476731524294, -0.012214133620844845, -0.010472514512338316, -0.0012295259274889003, -0.0003002494414452655])\n",
    "EV*(1000/-0.0003002494414452655)"
   ]
  },
  {
   "cell_type": "code",
   "execution_count": 16,
   "metadata": {
    "collapsed": false
   },
   "outputs": [
    {
     "data": {
      "text/html": [
       "<div class=\"notruncate\">\n",
       "<table  class=\"table_form\">\n",
       "<tbody>\n",
       "<tr class =\"row-a\">\n",
       "<td><script type=\"math/tex\">\\left(0, 5\\right)</script></td>\n",
       "<td><script type=\"math/tex\">1.048154075673328</script></td>\n",
       "<td><script type=\"math/tex\">1.3897230876969147 \\times 10^{-05}</script></td>\n",
       "</tr>\n",
       "<tr class =\"row-b\">\n",
       "<td><script type=\"math/tex\">\\left(0, 6\\right)</script></td>\n",
       "<td><script type=\"math/tex\">1.0481469654095554</script></td>\n",
       "<td><script type=\"math/tex\">6.786967104321917 \\times 10^{-06}</script></td>\n",
       "</tr>\n",
       "<tr class =\"row-a\">\n",
       "<td><script type=\"math/tex\">\\left(1, 0\\right)</script></td>\n",
       "<td><script type=\"math/tex\">1.0481608587113267</script></td>\n",
       "<td><script type=\"math/tex\">2.0680268875583607 \\times 10^{-05}</script></td>\n",
       "</tr>\n",
       "<tr class =\"row-b\">\n",
       "<td><script type=\"math/tex\">\\left(1, 1\\right)</script></td>\n",
       "<td><script type=\"math/tex\">1.0481762702065505</script></td>\n",
       "<td><script type=\"math/tex\">3.609176409935522 \\times 10^{-05}</script></td>\n",
       "</tr>\n",
       "<tr class =\"row-a\">\n",
       "<td><script type=\"math/tex\">\\left(2, 1\\right)</script></td>\n",
       "<td><script type=\"math/tex\">1.0481608587113278</script></td>\n",
       "<td><script type=\"math/tex\">2.068026887669383 \\times 10^{-05}</script></td>\n",
       "</tr>\n",
       "<tr class =\"row-b\">\n",
       "<td><script type=\"math/tex\">\\left(2, 2\\right)</script></td>\n",
       "<td><script type=\"math/tex\">1.0482168209793714</script></td>\n",
       "<td><script type=\"math/tex\">7.664253692030165 \\times 10^{-05}</script></td>\n",
       "</tr>\n",
       "<tr class =\"row-a\">\n",
       "<td><script type=\"math/tex\">\\left(3, 2\\right)</script></td>\n",
       "<td><script type=\"math/tex\">1.0481608587113274</script></td>\n",
       "<td><script type=\"math/tex\">2.068026887624974 \\times 10^{-05}</script></td>\n",
       "</tr>\n",
       "<tr class =\"row-b\">\n",
       "<td><script type=\"math/tex\">\\left(3, 3\\right)</script></td>\n",
       "<td><script type=\"math/tex\">1.04827576697131</script></td>\n",
       "<td><script type=\"math/tex\">0.00013558852885897643</script></td>\n",
       "</tr>\n",
       "<tr class =\"row-a\">\n",
       "<td><script type=\"math/tex\">\\left(4, 3\\right)</script></td>\n",
       "<td><script type=\"math/tex\">1.0481608587113276</script></td>\n",
       "<td><script type=\"math/tex\">2.0680268876471786 \\times 10^{-05}</script></td>\n",
       "</tr>\n",
       "<tr class =\"row-b\">\n",
       "<td><script type=\"math/tex\">\\left(4, 4\\right)</script></td>\n",
       "<td><script type=\"math/tex\">1.0483752298708766</script></td>\n",
       "<td><script type=\"math/tex\">0.00023505142842550342</script></td>\n",
       "</tr>\n",
       "<tr class =\"row-a\">\n",
       "<td><script type=\"math/tex\">\\left(5, 4\\right)</script></td>\n",
       "<td><script type=\"math/tex\">1.0481608587113258</script></td>\n",
       "<td><script type=\"math/tex\">2.068026887469543 \\times 10^{-05}</script></td>\n",
       "</tr>\n",
       "<tr class =\"row-b\">\n",
       "<td><script type=\"math/tex\">\\left(5, 5\\right)</script></td>\n",
       "<td><script type=\"math/tex\">1.0484391609871473</script></td>\n",
       "<td><script type=\"math/tex\">0.00029898254469618024</script></td>\n",
       "</tr>\n",
       "<tr class =\"row-a\">\n",
       "<td><script type=\"math/tex\">\\left(6, 5\\right)</script></td>\n",
       "<td><script type=\"math/tex\">1.0481469654095565</script></td>\n",
       "<td><script type=\"math/tex\">6.78696710543214 \\times 10^{-06}</script></td>\n",
       "</tr>\n",
       "<tr class =\"row-b\">\n",
       "<td><script type=\"math/tex\">\\left(6, 6\\right)</script></td>\n",
       "<td><script type=\"math/tex\">1.0482800319235515</script></td>\n",
       "<td><script type=\"math/tex\">0.00013985348110034934</script></td>\n",
       "</tr>\n",
       "</tbody>\n",
       "</table>\n",
       "</div>"
      ],
      "text/plain": [
       "  (0, 5)   1.048154075673328    1.3897230876969147e-05\n",
       "  (0, 6)   1.0481469654095554   6.786967104321917e-06\n",
       "  (1, 0)   1.0481608587113267   2.0680268875583607e-05\n",
       "  (1, 1)   1.0481762702065505   3.609176409935522e-05\n",
       "  (2, 1)   1.0481608587113278   2.068026887669383e-05\n",
       "  (2, 2)   1.0482168209793714   7.664253692030165e-05\n",
       "  (3, 2)   1.0481608587113274   2.068026887624974e-05\n",
       "  (3, 3)   1.04827576697131     0.00013558852885897643\n",
       "  (4, 3)   1.0481608587113276   2.0680268876471786e-05\n",
       "  (4, 4)   1.0483752298708766   0.00023505142842550342\n",
       "  (5, 4)   1.0481608587113258   2.068026887469543e-05\n",
       "  (5, 5)   1.0484391609871473   0.00029898254469618024\n",
       "  (6, 5)   1.0481469654095565   6.78696710543214e-06\n",
       "  (6, 6)   1.0482800319235515   0.00013985348110034934"
      ]
     },
     "execution_count": 16,
     "metadata": {
     },
     "output_type": "execute_result"
    }
   ],
   "source": [
    "#Exercise 6\n",
    "TypeA=matrix(RDF,[[0,0,0,0,0,500,1000],[0.200,0.666,0,0,0,0,0],[0,0.083,0.825,0,0,0,0],[0,0,0.010,0.909,0,0,0],[0,0,0,0.073,0.963,0,0],[0,0,0,0,0.008,0.980,0],[0,0,0,0,0,0.012,0.999]])\n",
    "dominant=1.048140178442451\n",
    "TypeAnew= TypeA\n",
    "TypeAnew[0,5]= TypeA[0,5]*1.001\n",
    "changeval= max(TypeAnew.eigenvalues())-dominant\n",
    "listchangeval=[]\n",
    "listdomval=[]\n",
    "l1=[(0,5),(0,6),(1,0),(1,1),(2,1),(2,2),(3,2),(3,3),(4,3),(4,4),(5,4),(5,5),(6,5),(6,6)]\n",
    "for i in l1:\n",
    "    TypeAnew=matrix(RDF,[[0,0,0,0,0,500,1000],[0.200,0.666,0,0,0,0,0],[0,0.083,0.825,0,0,0,0],[0,0,0.010,0.909,0,0,0],[0,0,0,0.073,0.963,0,0],[0,0,0,0,0.008,0.980,0],[0,0,0,0,0,0.012,0.999]])\n",
    "    TypeAnew[i]=TypeAnew[i]*1.001\n",
    "    x = max(TypeAnew.eigenvalues())\n",
    "    listdomval.append(x)\n",
    "    listchangeval.append(x-dominant)\n",
    "table(list(zip(l1,listdomval,listchangeval)))\n",
    "# You can see the most change by changing the survival rate and recruitment rate of the young trees."
   ]
  },
  {
   "cell_type": "code",
   "execution_count": 0,
   "metadata": {
    "collapsed": false
   },
   "outputs": [
   ],
   "source": [
    "#Exercise 8\n",
    "# Yes, the results of this lab allows us to see long-term behavior. We were able to see this through the use of dominant eigenvalues and dominant eigenvectors."
   ]
  },
  {
   "cell_type": "code",
   "execution_count": 17,
   "metadata": {
    "collapsed": false
   },
   "outputs": [
    {
     "data": {
      "text/plain": [
       "(1.2226157176665158,\n",
       " [(-0.7685740349651337, -0.5523193187480965, -0.3194879821592132, -0.04584259776307626, -0.007946040085247514, -0.00026201237616994523, -1.406049872902132e-05)],\n",
       " 1)"
      ]
     },
     "execution_count": 17,
     "metadata": {
     },
     "output_type": "execute_result"
    }
   ],
   "source": [
    "#Exercise 7\n",
    "# What would be the ratio of older trees to the rest of the stages for type b?\n",
    "Type2= matrix(RDF,[[0,0,0,0,100,500,1000],[0.400,0.666,0,0,0,0,0],[0,0.230,0.825,0,0,0,0],[0,0,0.045,0.909,0,0,0],[0,0,0,0.045,0.963,0,0],[0,0,0,0,0.008,0.980,0],[0,0,0,0,0,0.012,0.999]])\n",
    "max(Type2.eigenvectors_right())"
   ]
  },
  {
   "cell_type": "code",
   "execution_count": 2,
   "metadata": {
    "collapsed": false
   },
   "outputs": [
    {
     "data": {
      "text/plain": [
       "-33305.6406428752"
      ]
     },
     "execution_count": 2,
     "metadata": {
     },
     "output_type": "execute_result"
    }
   ],
   "source": [
    "C=vector([-0.8729866710666837, -0.4568934230495469, -0.1699476731524294, -0.012214133620844845, -0.010472514512338316, -0.0012295259274889003, -0.0003002494414452655])\n",
    "10/-0.0003002494414452655"
   ]
  },
  {
   "cell_type": "code",
   "execution_count": 0,
   "metadata": {
    "collapsed": false
   },
   "outputs": [
   ],
   "source": [
   ]
  }
 ],
 "metadata": {
  "kernelspec": {
   "display_name": "SageMath 9.2",
   "language": "sagemath",
   "metadata": {
    "cocalc": {
     "description": "Open-source mathematical software system",
     "priority": 10,
     "url": "https://www.sagemath.org/"
    }
   },
   "name": "sage-9.2",
   "resource_dir": "/ext/jupyter/kernels/sage-9.2"
  },
  "language_info": {
   "codemirror_mode": {
    "name": "ipython",
    "version": 3
   },
   "file_extension": ".py",
   "mimetype": "text/x-python",
   "name": "python",
   "nbconvert_exporter": "python",
   "pygments_lexer": "ipython3",
   "version": "3.8.5"
  }
 },
 "nbformat": 4,
 "nbformat_minor": 4
}