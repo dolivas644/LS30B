{
 "cells": [
  {
   "cell_type": "code",
   "execution_count": 0,
   "metadata": {
    "collapsed": false
   },
   "outputs": [
   ],
   "source": [
    "# Name: Diana Olivas\n",
    "# I worked on this code with:\n",
    "\n",
    "# Please do all of your work for this week's lab in this worksheet. If\n",
    "# you wish to create other worksheets for scratch work, you can, but\n",
    "# this is the one that will be graded. You do not need to do anything\n",
    "# to turn in your lab. It will be collected by your TA at the beginning\n",
    "# of (or right before) next week’s lab.\n",
    "\n",
    "# Be sure to clearly label which question you are answering as you go and to\n",
    "# use enough comments that you and the grader can understand your code.\n"
   ]
  },
  {
   "cell_type": "code",
   "execution_count": 1,
   "metadata": {
    "collapsed": false
   },
   "outputs": [
    {
     "data": {
      "text/plain": [
       "(3, 10)"
      ]
     },
     "execution_count": 1,
     "metadata": {
     },
     "output_type": "execute_result"
    }
   ],
   "source": [
    "#1\n",
    "vector([3,10])"
   ]
  },
  {
   "cell_type": "code",
   "execution_count": 4,
   "metadata": {
    "collapsed": false
   },
   "outputs": [
    {
     "data": {
      "text/html": [
       "<html><script type=\"math/tex; mode=display\">\\newcommand{\\Bold}[1]{\\mathbf{#1}}\\left(-2,\\,7,\\,5\\right)</script></html>"
      ],
      "text/latex": [
       "\\begin{math}\n",
       "\\newcommand{\\Bold}[1]{\\mathbf{#1}}\\left(-2,\\,7,\\,5\\right)\n",
       "\\end{math}"
      ],
      "text/plain": [
       "(-2, 7, 5)"
      ]
     },
     "execution_count": 4,
     "metadata": {
     },
     "output_type": "execute_result"
    }
   ],
   "source": [
    "#Exercise 2\n",
    "v= vector([-2,7,5])\n",
    "show(v)"
   ]
  },
  {
   "cell_type": "code",
   "execution_count": 5,
   "metadata": {
    "collapsed": false
   },
   "outputs": [
    {
     "data": {
      "text/plain": [
       "<class 'sage.modules.vector_integer_dense.Vector_integer_dense'>"
      ]
     },
     "execution_count": 5,
     "metadata": {
     },
     "output_type": "execute_result"
    }
   ],
   "source": [
    "type(v)"
   ]
  },
  {
   "cell_type": "code",
   "execution_count": 6,
   "metadata": {
    "collapsed": false
   },
   "outputs": [
   ],
   "source": [
    "#Exercise 3\n",
    "a=vector([4,2])\n",
    "b=vector([-1,5])"
   ]
  },
  {
   "cell_type": "code",
   "execution_count": 7,
   "metadata": {
    "collapsed": false
   },
   "outputs": [
    {
     "data": {
      "text/plain": [
       "(3, 7)"
      ]
     },
     "execution_count": 7,
     "metadata": {
     },
     "output_type": "execute_result"
    }
   ],
   "source": [
    "a+b"
   ]
  },
  {
   "cell_type": "code",
   "execution_count": 9,
   "metadata": {
    "collapsed": false
   },
   "outputs": [
    {
     "data": {
      "text/plain": [
       "(24, 12)"
      ]
     },
     "execution_count": 9,
     "metadata": {
     },
     "output_type": "execute_result"
    }
   ],
   "source": [
    "6*a"
   ]
  },
  {
   "cell_type": "code",
   "execution_count": 11,
   "metadata": {
    "collapsed": false
   },
   "outputs": [
    {
     "data": {
      "text/plain": [
       "(13, 23)"
      ]
     },
     "execution_count": 11,
     "metadata": {
     },
     "output_type": "execute_result"
    }
   ],
   "source": [
    "4*a+3*b"
   ]
  },
  {
   "cell_type": "code",
   "execution_count": 12,
   "metadata": {
    "collapsed": false
   },
   "outputs": [
    {
     "data": {
      "text/plain": [
       "(1, -5)"
      ]
     },
     "execution_count": 12,
     "metadata": {
     },
     "output_type": "execute_result"
    }
   ],
   "source": [
    "-b"
   ]
  },
  {
   "cell_type": "code",
   "execution_count": 13,
   "metadata": {
    "collapsed": false
   },
   "outputs": [
    {
     "data": {
      "text/plain": [
       "(-3, -7)"
      ]
     },
     "execution_count": 13,
     "metadata": {
     },
     "output_type": "execute_result"
    }
   ],
   "source": [
    "-a+-b"
   ]
  },
  {
   "cell_type": "markdown",
   "metadata": {
    "collapsed": false
   },
   "source": [
    " pi*a"
   ]
  },
  {
   "cell_type": "code",
   "execution_count": 15,
   "metadata": {
    "collapsed": false
   },
   "outputs": [
    {
     "data": {
      "text/plain": [
       "(4*pi, 2*pi)"
      ]
     },
     "execution_count": 15,
     "metadata": {
     },
     "output_type": "execute_result"
    }
   ],
   "source": [
    "pi*a"
   ]
  },
  {
   "cell_type": "code",
   "execution_count": 16,
   "metadata": {
    "collapsed": false
   },
   "outputs": [
    {
     "data": {
      "text/plain": [
       "(12.5600000000000, 6.28000000000000)"
      ]
     },
     "execution_count": 16,
     "metadata": {
     },
     "output_type": "execute_result"
    }
   ],
   "source": [
    "3.14*a"
   ]
  },
  {
   "cell_type": "code",
   "execution_count": 18,
   "metadata": {
    "collapsed": false
   },
   "outputs": [
    {
     "data": {
      "text/html": "\n<iframe srcdoc=\"<!DOCTYPE html>\n<html>\n<head>\n<title></title>\n<meta charset=&quot;utf-8&quot;>\n<meta name=viewport content=&quot;width=device-width, user-scalable=no, minimum-scale=1.0, maximum-scale=1.0&quot;>\n<style>\n\n    body { margin: 0px; overflow: hidden; }\n\n    #menu-container { position: absolute; bottom: 30px; right: 40px; cursor: default; }\n\n    #menu-message { position: absolute; bottom: 0px; right: 0px; white-space: nowrap;\n                    display: none; background-color: #F5F5F5; padding: 10px; }\n\n    #menu-content { position: absolute; bottom: 0px; right: 0px;\n                    display: none; background-color: #F5F5F5; border-bottom: 1px solid black;\n                    border-right: 1px solid black; border-left: 1px solid black; }\n\n    #menu-content div { border-top: 1px solid black; padding: 10px; white-space: nowrap; }\n\n    #menu-content div:hover { background-color: #FEFEFE;; }\n\n</style>\n\n</head>\n\n<body>\n\n<script src=&quot;/nbextensions/threejs/build/three.min.js&quot;></script>\n<script src=&quot;/nbextensions/threejs/examples/js/controls/OrbitControls.js&quot;></script>\n<script>\n  if ( !window.THREE ) document.write(' \\\n<script src=&quot;https://cdn.jsdelivr.net/gh/mrdoob/three.js@r117/build/three.min.js&quot;><\\/script> \\\n<script src=&quot;https://cdn.jsdelivr.net/gh/mrdoob/three.js@r117/examples/js/controls/OrbitControls.js&quot;><\\/script> \\\n            ');\n</script>\n        \n<script>\n\n    var scene = new THREE.Scene();\n\n    var renderer = new THREE.WebGLRenderer( { antialias: true, preserveDrawingBuffer: true } );\n    renderer.setPixelRatio( window.devicePixelRatio );\n    renderer.setSize( window.innerWidth, window.innerHeight );\n    renderer.setClearColor( 0xffffff, 1 );\n    document.body.appendChild( renderer.domElement );\n\n    var options = {&quot;animate&quot;: false, &quot;animationControls&quot;: true, &quot;aspectRatio&quot;: [1.0, 1.0, 1.0], &quot;autoPlay&quot;: true, &quot;axes&quot;: false, &quot;axesLabels&quot;: [&quot;x&quot;, &quot;y&quot;, &quot;z&quot;], &quot;decimals&quot;: 2, &quot;delay&quot;: 20, &quot;frame&quot;: true, &quot;loop&quot;: true, &quot;projection&quot;: &quot;perspective&quot;, &quot;viewpoint&quot;: false};\n    var animate = options.animate;\n\n    var b = [{&quot;x&quot;:0.0, &quot;y&quot;:0.0, &quot;z&quot;:0.0}, {&quot;x&quot;:1.0, &quot;y&quot;:2.0, &quot;z&quot;:4.0}]; // bounds\n\n    if ( b[0].x === b[1].x ) {\n        b[0].x -= 1;\n        b[1].x += 1;\n    }\n    if ( b[0].y === b[1].y ) {\n        b[0].y -= 1;\n        b[1].y += 1;\n    }\n    if ( b[0].z === b[1].z ) {\n        b[0].z -= 1;\n        b[1].z += 1;\n    }\n\n    var rRange = Math.sqrt( Math.pow( b[1].x - b[0].x, 2 )\n                            + Math.pow( b[1].y - b[0].y, 2 ) );\n    var xRange = b[1].x - b[0].x;\n    var yRange = b[1].y - b[0].y;\n    var zRange = b[1].z - b[0].z;\n\n    var ar = options.aspectRatio;\n    var a = [ ar[0], ar[1], ar[2] ]; // aspect multipliers\n    var autoAspect = 2.5;\n    if ( zRange > autoAspect * rRange && a[2] === 1 ) a[2] = autoAspect * rRange / zRange;\n\n    // Distance from (xMid,yMid,zMid) to any corner of the bounding box, after applying aspectRatio\n    var midToCorner = Math.sqrt( a[0]*a[0]*xRange*xRange + a[1]*a[1]*yRange*yRange + a[2]*a[2]*zRange*zRange ) / 2;\n\n    var xMid = ( b[0].x + b[1].x ) / 2;\n    var yMid = ( b[0].y + b[1].y ) / 2;\n    var zMid = ( b[0].z + b[1].z ) / 2;\n\n    var box = new THREE.Geometry();\n    box.vertices.push( new THREE.Vector3( a[0]*b[0].x, a[1]*b[0].y, a[2]*b[0].z ) );\n    box.vertices.push( new THREE.Vector3( a[0]*b[1].x, a[1]*b[1].y, a[2]*b[1].z ) );\n    var boxMesh = new THREE.Line( box );\n    if ( options.frame ) scene.add( new THREE.BoxHelper( boxMesh, 'black' ) );\n\n    if ( options.axesLabels ) {\n\n        var d = options.decimals; // decimals\n        var offsetRatio = 0.1;\n        var al = options.axesLabels;\n\n        var offset = offsetRatio * a[1]*( b[1].y - b[0].y );\n        var xm = xMid.toFixed(d);\n        if ( /^-0.?0*$/.test(xm) ) xm = xm.substr(1);\n        addLabel( al[0] + '=' + xm, a[0]*xMid, a[1]*b[1].y+offset, a[2]*b[0].z );\n        addLabel( ( b[0].x ).toFixed(d), a[0]*b[0].x, a[1]*b[1].y+offset, a[2]*b[0].z );\n        addLabel( ( b[1].x ).toFixed(d), a[0]*b[1].x, a[1]*b[1].y+offset, a[2]*b[0].z );\n\n        var offset = offsetRatio * a[0]*( b[1].x - b[0].x );\n        var ym = yMid.toFixed(d);\n        if ( /^-0.?0*$/.test(ym) ) ym = ym.substr(1);\n        addLabel( al[1] + '=' + ym, a[0]*b[1].x+offset, a[1]*yMid, a[2]*b[0].z );\n        addLabel( ( b[0].y ).toFixed(d), a[0]*b[1].x+offset, a[1]*b[0].y, a[2]*b[0].z );\n        addLabel( ( b[1].y ).toFixed(d), a[0]*b[1].x+offset, a[1]*b[1].y, a[2]*b[0].z );\n\n        var offset = offsetRatio * a[1]*( b[1].y - b[0].y );\n        var zm = zMid.toFixed(d);\n        if ( /^-0.?0*$/.test(zm) ) zm = zm.substr(1);\n        addLabel( al[2] + '=' + zm, a[0]*b[1].x, a[1]*b[0].y-offset, a[2]*zMid );\n        addLabel( ( b[0].z ).toFixed(d), a[0]*b[1].x, a[1]*b[0].y-offset, a[2]*b[0].z );\n        addLabel( ( b[1].z ).toFixed(d), a[0]*b[1].x, a[1]*b[0].y-offset, a[2]*b[1].z );\n\n    }\n\n    function addLabel( text, x, y, z, color='black', fontSize=14, fontFamily='monospace',\n                       fontStyle='normal', fontWeight='normal', opacity=1 ) {\n\n        var canvas = document.createElement( 'canvas' );\n        var context = canvas.getContext( '2d' );\n        var pixelRatio = Math.round( window.devicePixelRatio );\n\n        var font = [fontStyle, fontWeight, fontSize + 'px', fontFamily].join(' ');\n\n        context.font = font;\n        var width = context.measureText( text ).width;\n        var height = fontSize;\n\n        // The dimensions of the canvas's underlying image data need to be powers\n        // of two in order for the resulting texture to support mipmapping.\n        canvas.width = THREE.MathUtils.ceilPowerOfTwo( width * pixelRatio );\n        canvas.height = THREE.MathUtils.ceilPowerOfTwo( height * pixelRatio );\n\n        // Re-compute the unscaled dimensions after the power of two conversion.\n        width = canvas.width / pixelRatio;\n        height = canvas.height / pixelRatio;\n\n        canvas.style.width = width + 'px';\n        canvas.style.height = height + 'px';\n\n        context.scale( pixelRatio, pixelRatio );\n        context.fillStyle = color;\n        context.font = font; // Must be set again after measureText.\n        context.textAlign = 'center';\n        context.textBaseline = 'middle';\n        context.fillText( text, width/2, height/2 );\n\n        var texture = new THREE.Texture( canvas );\n        texture.needsUpdate = true;\n\n        var materialOptions = { map: texture, sizeAttenuation: false };\n        if ( opacity < 1 ) {\n            // Setting opacity=1 would cause the texture's alpha component to be\n            // discarded, giving the text a black background instead of the\n            // background being transparent.\n            materialOptions.opacity = opacity;\n        }\n        var sprite = new THREE.Sprite( new THREE.SpriteMaterial( materialOptions ) );\n        sprite.position.set( x, y, z );\n\n        // Scaling factor, chosen somewhat arbitrarily so that the size of the text\n        // is consistent with previously generated plots.\n        var scale = 1/625;\n        if ( options.projection === 'orthographic' ) {\n            scale = midToCorner/256; // Needs to scale along with the plot itself.\n        }\n        sprite.scale.set( scale * width, scale * height, 1 );\n\n        scene.add( sprite );\n\n        return sprite;\n\n    }\n\n    if ( options.axes ) scene.add( new THREE.AxesHelper( Math.min( a[0]*b[1].x, a[1]*b[1].y, a[2]*b[1].z ) ) );\n\n    var camera = createCamera();\n    camera.up.set( 0, 0, 1 );\n    camera.position.set( a[0]*xMid, a[1]*yMid, a[2]*zMid );\n\n    var offset = new THREE.Vector3( a[0]*xRange, a[1]*yRange, a[2]*zRange );\n\n    if ( options.viewpoint ) {\n\n        var aa = options.viewpoint;\n        var axis = new THREE.Vector3( aa[0][0], aa[0][1], aa[0][2] ).normalize();\n        var angle = aa[1] * Math.PI / 180;\n        var q = new THREE.Quaternion().setFromAxisAngle( axis, angle ).inverse();\n\n        offset.set( 0, 0, offset.length() );\n        offset.applyQuaternion( q );\n\n    }\n\n    camera.position.add( offset );\n\n    function createCamera() {\n\n        var aspect = window.innerWidth / window.innerHeight;\n\n        if ( options.projection === 'orthographic' ) {\n            var camera = new THREE.OrthographicCamera( -1, 1, 1, -1, -1000, 1000 );\n            updateCameraAspect( camera, aspect );\n            return camera;\n        }\n\n        return new THREE.PerspectiveCamera( 45, aspect, 0.1, 1000 );\n\n    }\n\n    function updateCameraAspect( camera, aspect ) {\n\n        if ( camera.isPerspectiveCamera ) {\n            camera.aspect = aspect;\n        } else if ( camera.isOrthographicCamera ) {\n            // Fit the camera frustum to the bounding box's diagonal so that the entire plot fits\n            // within at the default zoom level and camera position.\n            if ( aspect > 1 ) { // Wide window\n                camera.top = midToCorner;\n                camera.right = midToCorner * aspect;\n            } else { // Tall or square window\n                camera.top = midToCorner / aspect;\n                camera.right = midToCorner;\n            }\n            camera.bottom = -camera.top;\n            camera.left = -camera.right;\n        }\n\n        camera.updateProjectionMatrix();\n\n    }\n\n    var lights = [{&quot;x&quot;:-5, &quot;y&quot;:3, &quot;z&quot;:0, &quot;color&quot;:&quot;#7f7f7f&quot;, &quot;parent&quot;:&quot;camera&quot;}];\n    for ( var i=0 ; i < lights.length ; i++ ) {\n        var light = new THREE.DirectionalLight( lights[i].color, 1 );\n        light.position.set( a[0]*lights[i].x, a[1]*lights[i].y, a[2]*lights[i].z );\n        if ( lights[i].parent === 'camera' ) {\n            light.target.position.set( a[0]*xMid, a[1]*yMid, a[2]*zMid );\n            scene.add( light.target );\n            camera.add( light );\n        } else scene.add( light );\n    }\n    scene.add( camera );\n\n    var ambient = {&quot;color&quot;:&quot;#7f7f7f&quot;};\n    scene.add( new THREE.AmbientLight( ambient.color, 1 ) );\n\n    var controls = new THREE.OrbitControls( camera, renderer.domElement );\n    controls.target.set( a[0]*xMid, a[1]*yMid, a[2]*zMid );\n    controls.addEventListener( 'change', function() { if ( !animate ) render(); } );\n\n    window.addEventListener( 'resize', function() {\n\n        renderer.setSize( window.innerWidth, window.innerHeight );\n        updateCameraAspect( camera, window.innerWidth / window.innerHeight );\n        if ( !animate ) render();\n\n    } );\n\n    var texts = [];\n    for ( var i=0 ; i < texts.length ; i++ ) addText( texts[i] );\n\n    function addText( json ) {\n        json.fontFamily = json.fontFamily.map( function( f ) {\n            // Need to put quotes around fonts that have whitespace in their names.\n            return /\\s/.test( f ) ? '&quot;' + f + '&quot;' : f;\n        }).join(', ');\n        var sprite = addLabel( json.text, a[0]*json.x, a[1]*json.y, a[2]*json.z, json.color,\n                               json.fontSize, json.fontFamily, json.fontStyle, json.fontWeight,\n                               json.opacity );\n        sprite.userData = json;\n    }\n\n    var points = [];\n    for ( var i=0 ; i < points.length ; i++ ) addPoint( points[i] );\n\n    function addPoint( json ) {\n\n        var geometry = new THREE.Geometry();\n        var v = json.point;\n        geometry.vertices.push( new THREE.Vector3( a[0]*v[0], a[1]*v[1], a[2]*v[2] ) );\n\n        var canvas = document.createElement( 'canvas' );\n        canvas.width = 128;\n        canvas.height = 128;\n\n        var context = canvas.getContext( '2d' );\n        context.arc( 64, 64, 64, 0, 2 * Math.PI );\n        context.fillStyle = json.color;\n        context.fill();\n\n        var texture = new THREE.Texture( canvas );\n        texture.needsUpdate = true;\n\n        var transparent = json.opacity < 1 ? true : false;\n        var size = camera.isOrthographicCamera ? json.size : json.size/100;\n        var material = new THREE.PointsMaterial( { size: size, map: texture,\n                                                   transparent: transparent, opacity: json.opacity,\n                                                   alphaTest: .1 } );\n\n        var c = new THREE.Vector3();\n        geometry.computeBoundingBox();\n        geometry.boundingBox.getCenter( c );\n        geometry.translate( -c.x, -c.y, -c.z );\n\n        var mesh = new THREE.Points( geometry, material );\n        mesh.position.set( c.x, c.y, c.z );\n        mesh.userData = json;\n        scene.add( mesh );\n\n    }\n\n    var lines = [];\n    for ( var i=0 ; i < lines.length ; i++ ) addLine( lines[i] );\n\n    function addLine( json ) {\n\n        var geometry = new THREE.Geometry();\n        for ( var i=0 ; i < json.points.length ; i++ ) {\n            var v = json.points[i];\n            geometry.vertices.push( new THREE.Vector3( a[0]*v[0], a[1]*v[1], a[2]*v[2] ) );\n        }\n\n        var transparent = json.opacity < 1 ? true : false;\n        var material = new THREE.LineBasicMaterial( { color: json.color, linewidth: json.linewidth,\n                                                      transparent: transparent, opacity: json.opacity } );\n\n        var c = new THREE.Vector3();\n        geometry.computeBoundingBox();\n        geometry.boundingBox.getCenter( c );\n        geometry.translate( -c.x, -c.y, -c.z );\n\n        var mesh = new THREE.Line( geometry, material );\n        mesh.position.set( c.x, c.y, c.z );\n        mesh.userData = json;\n        scene.add( mesh );\n\n    }\n\n    var surfaces = [{&quot;vertices&quot;: [{&quot;x&quot;: 0.9214415595150426, &quot;y&quot;: 1.8428831190300852, &quot;z&quot;: 3.685766238060171}, {&quot;x&quot;: 0.9578880119536965, &quot;y&quot;: 1.8520521823787788, &quot;z&quot;: 3.6720700932761603}, {&quot;x&quot;: 0.9194075044901461, &quot;y&quot;: 1.8788150089802922, &quot;z&quot;: 3.6683088068412912}, {&quot;x&quot;: 0.9460007609163837, &quot;y&quot;: 1.8126180218743717, &quot;z&quot;: 3.694758986287692}, {&quot;x&quot;: 0.9001735282789715, &quot;y&quot;: 1.8150091969663429, &quot;z&quot;: 3.7050202069010596}, {&quot;x&quot;: 0.883737991936015, &quot;y&quot;: 1.8559211849506403, &quot;z&quot;: 3.68867309699465}, {&quot;x&quot;: 0.03644645243865401, &quot;y&quot;: 0.009169063348693652, &quot;z&quot;: -0.01369614478401033}, {&quot;x&quot;: -0.0020340550248964867, &quot;y&quot;: 0.035931889950207026, &quot;z&quot;: -0.01745743121887939}, {&quot;x&quot;: 0.024559201401341168, &quot;y&quot;: -0.030265097155713423, &quot;z&quot;: 0.008992748227521417}, {&quot;x&quot;: -0.02126803123607113, &quot;y&quot;: -0.02787392206374232, &quot;z&quot;: 0.019253968840888938}, {&quot;x&quot;: -0.037703567579027555, &quot;y&quot;: 0.013038065920555054, &quot;z&quot;: 0.0029068589344793637}, {&quot;x&quot;: 0.0, &quot;y&quot;: 0.0, &quot;z&quot;: 0.0}], &quot;faces&quot;: [[0, 1, 2], [0, 3, 1], [0, 4, 3], [0, 5, 4], [0, 2, 5], [2, 1, 6, 7], [1, 3, 8, 6], [3, 4, 9, 8], [4, 5, 10, 9], [5, 2, 7, 10], [7, 6, 11], [6, 8, 11], [8, 9, 11], [9, 10, 11], [10, 7, 11]], &quot;color&quot;: &quot;#6666ff&quot;, &quot;opacity&quot;: 1.0}, {&quot;vertices&quot;: [{&quot;x&quot;: 0.9999999999999998, &quot;y&quot;: 1.9999999999999996, &quot;z&quot;: 4.0}, {&quot;x&quot;: 0.985245653223256, &quot;y&quot;: 1.926504885221312, &quot;z&quot;: 3.628004331537504}, {&quot;x&quot;: 0.9153393944403532, &quot;y&quot;: 1.9506787888807062, &quot;z&quot;: 3.6333939444035326}, {&quot;x&quot;: 1.0307809168310047, &quot;y&quot;: 1.8703903090761662, &quot;z&quot;: 3.6446778037081398}, {&quot;x&quot;: 1.0345522622521253, &quot;y&quot;: 1.80376892126842, &quot;z&quot;: 3.6770456612567326}, {&quot;x&quot;: 0.9951191637190661, &quot;y&quot;: 1.752087827562945, &quot;z&quot;: 3.712744482742735}, {&quot;x&quot;: 0.9275437245897321, &quot;y&quot;: 1.7350874491794641, &quot;z&quot;: 3.738138531716809}, {&quot;x&quot;: 0.8576374658068292, &quot;y&quot;: 1.7592613528388583, &quot;z&quot;: 3.7435281445828377}, {&quot;x&quot;: 0.8121022021990806, &quot;y&quot;: 1.8153759289840041, &quot;z&quot;: 3.726854672412202}, {&quot;x&quot;: 0.8083308567779599, &quot;y&quot;: 1.8819973167917503, &quot;z&quot;: 3.694486814863609}, {&quot;x&quot;: 0.8477639553110191, &quot;y&quot;: 1.9336784104972253, &quot;z&quot;: 3.6587879933776066}, {&quot;x&quot;: 0.9214415595150426, &quot;y&quot;: 1.8428831190300852, &quot;z&quot;: 3.685766238060171}], &quot;faces&quot;: [[0, 1, 2], [0, 3, 1], [0, 4, 3], [0, 5, 4], [0, 6, 5], [0, 7, 6], [0, 8, 7], [0, 9, 8], [0, 10, 9], [0, 2, 10], [2, 1, 11], [1, 3, 11], [3, 4, 11], [4, 5, 11], [5, 6, 11], [6, 7, 11], [7, 8, 11], [8, 9, 11], [9, 10, 11], [10, 2, 11]], &quot;color&quot;: &quot;#6666ff&quot;, &quot;opacity&quot;: 1.0}];\n    for ( var i=0 ; i < surfaces.length ; i++ ) addSurface( surfaces[i] );\n\n    function addSurface( json ) {\n\n        var useFaceColors = 'faceColors' in json ? true : false;\n\n        var geometry = new THREE.Geometry();\n        for ( var i=0 ; i < json.vertices.length ; i++ ) {\n            var v = json.vertices[i];\n            geometry.vertices.push( new THREE.Vector3( a[0]*v.x, a[1]*v.y, a[2]*v.z ) );\n        }\n        for ( var i=0 ; i < json.faces.length ; i++ ) {\n            var f = json.faces[i];\n            for ( var j=0 ; j < f.length - 2 ; j++ ) {\n                var face = new THREE.Face3( f[0], f[j+1], f[j+2] );\n                if ( useFaceColors ) face.color.set( json.faceColors[i] );\n                geometry.faces.push( face );\n            }\n        }\n        geometry.computeVertexNormals();\n\n        var side = json.singleSide ? THREE.FrontSide : THREE.DoubleSide;\n        var transparent = json.opacity < 1 ? true : false;\n        var flatShading = json.useFlatShading ? json.useFlatShading : false;\n\n        var material = new THREE.MeshPhongMaterial( { side: side,\n                                     color: useFaceColors ? 'white' : json.color,\n                                     vertexColors: useFaceColors ? THREE.FaceColors : THREE.NoColors,\n                                     transparent: transparent, opacity: json.opacity,\n                                     shininess: 20, flatShading: flatShading } );\n\n        var c = new THREE.Vector3();\n        geometry.computeBoundingBox();\n        geometry.boundingBox.getCenter( c );\n        geometry.translate( -c.x, -c.y, -c.z );\n\n        var mesh = new THREE.Mesh( geometry, material );\n        mesh.position.set( c.x, c.y, c.z );\n        if ( transparent && json.renderOrder ) mesh.renderOrder = json.renderOrder;\n        mesh.userData = json;\n        scene.add( mesh );\n\n        if ( json.showMeshGrid ) {\n\n            var geometry = new THREE.Geometry();\n\n            for ( var i=0 ; i < json.faces.length ; i++ ) {\n                var f = json.faces[i];\n                for ( var j=0 ; j < f.length ; j++ ) {\n                    var k = j === f.length-1 ? 0 : j+1;\n                    var v1 = json.vertices[f[j]];\n                    var v2 = json.vertices[f[k]];\n                    // vertices in opposite directions on neighboring faces\n                    var nudge = f[j] < f[k] ? .0005*zRange : -.0005*zRange;\n                    geometry.vertices.push( new THREE.Vector3( a[0]*v1.x, a[1]*v1.y, a[2]*(v1.z+nudge) ) );\n                    geometry.vertices.push( new THREE.Vector3( a[0]*v2.x, a[1]*v2.y, a[2]*(v2.z+nudge) ) );\n                }\n            }\n\n            var material = new THREE.LineBasicMaterial( { color: 'black', linewidth: 1 } );\n\n            var c = new THREE.Vector3();\n            geometry.computeBoundingBox();\n            geometry.boundingBox.getCenter( c );\n            geometry.translate( -c.x, -c.y, -c.z );\n\n            var mesh = new THREE.LineSegments( geometry, material );\n            mesh.position.set( c.x, c.y, c.z );\n            mesh.userData = json;\n            scene.add( mesh );\n\n        }\n\n    }\n\n    function render() {\n\n        if ( window.updateAnimation ) animate = updateAnimation();\n        if ( animate ) requestAnimationFrame( render );\n\n        renderer.render( scene, camera );\n\n    }\n\n    render();\n    controls.update();\n    if ( !animate ) render();\n\n\n    // menu functions\n\n    function toggleMenu() {\n\n        var m = document.getElementById( 'menu-content' );\n        if ( m.style.display === 'block' ) m.style.display = 'none'\n        else m.style.display = 'block';\n\n    }\n\n\n    function saveAsPNG() {\n\n        var a = document.body.appendChild( document.createElement( 'a' ) );\n        a.href = renderer.domElement.toDataURL( 'image/png' );\n        a.download = 'screenshot';\n        a.click();\n\n    }\n\n    function saveAsHTML() {\n\n        toggleMenu(); // otherwise visible in output\n        event.stopPropagation();\n\n        var blob = new Blob( [ '<!DOCTYPE html>\\n' + document.documentElement.outerHTML ] );\n        var a = document.body.appendChild( document.createElement( 'a' ) );\n        a.href = window.URL.createObjectURL( blob );\n        a.download = 'graphic.html';\n        a.click();\n\n    }\n\n    function getViewpoint() {\n\n        function roundTo( x, n ) { return +x.toFixed(n); }\n\n        var v = camera.quaternion.inverse();\n        var r = Math.sqrt( v.x*v.x + v.y*v.y + v.z*v.z );\n        var axis = [ roundTo( v.x / r, 4 ), roundTo( v.y / r, 4 ), roundTo( v.z / r, 4 ) ];\n        var angle = roundTo( 2 * Math.atan2( r, v.w ) * 180 / Math.PI, 2 );\n\n        var textArea = document.createElement( 'textarea' );\n        textArea.textContent = JSON.stringify( axis ) + ',' + angle;\n        textArea.style.csstext = 'position: absolute; top: -100%';\n        document.body.append( textArea );\n        textArea.select();\n        document.execCommand( 'copy' );\n\n        var m = document.getElementById( 'menu-message' );\n        m.innerHTML = 'Viewpoint copied to clipboard';\n        m.style.display = 'block';\n        setTimeout( function() { m.style.display = 'none'; }, 2000 );\n\n    }\n\n</script>\n\n<div id=&quot;menu-container&quot; onclick=&quot;toggleMenu()&quot;>&#x24d8;\n<div id=&quot;menu-message&quot;></div>\n<div id=&quot;menu-content&quot;>\n<div onclick=&quot;saveAsPNG()&quot;>Save as PNG</div>\n<div onclick=&quot;saveAsHTML()&quot;>Save as HTML</div>\n<div onclick=&quot;getViewpoint()&quot;>Get Viewpoint</div>\n<div>Close Menu</div>\n</div></div>\n\n\n</body>\n</html>\n\"\n        width=\"100%\"\n        height=\"400\"\n        style=\"border: 0;\">\n</iframe>\n",
      "text/plain": [
       "Graphics3d Object"
      ]
     },
     "execution_count": 18,
     "metadata": {
     },
     "output_type": "execute_result"
    }
   ],
   "source": [
    "#Exercise 4\n",
    "c=vector([1,2,4]) \n",
    "plot((c), aspect_ratio=1, thickness=4)\n",
    "\n",
    "\n"
   ]
  },
  {
   "cell_type": "code",
   "execution_count": 19,
   "metadata": {
    "collapsed": false,
    "scrolled": true
   },
   "outputs": [
    {
     "data": {
      "image/png": "[encoded data removed]",
      "text/plain": [
       "Graphics object consisting of 3 graphics primitives"
      ]
     },
     "execution_count": 19,
     "metadata": {
     },
     "output_type": "execute_result"
    }
   ],
   "source": [
    "#Exercise 5\n",
    "plot((a+b), aspect_ratio=1)+plot((a), color=\"red\")+plot((b), color=\"blue\") \n",
    "plot((6*a), aspect_ratio=1)+plot((a), color=\"red\")+plot((b), color=\"pink\")\n",
    "plot((4*a+3*b), aspect_ratio=1)+plot((a), color=\"red\")+plot((b), color=\"green\")\n",
    "plot((-b), aspect_ratio=1)+plot((a), color=\"red\")+plot((b), color=\"purple\")\n",
    "plot((-a+b), aspect_ratio=1)+plot((a), color=\"red\")+plot((b), color=\"lilac\")\n",
    "plot((3.1415*a), aspect_ratio=1)+plot((a), color=\"red\")+plot((b), color=\"magenta\")"
   ]
  },
  {
   "cell_type": "code",
   "execution_count": 31,
   "metadata": {
    "collapsed": false
   },
   "outputs": [
    {
     "ename": "SyntaxError",
     "evalue": "Missing parentheses in call to 'print'. Did you mean print(\"not linear\")? (<ipython-input-31-f22c5be3f40e>, line 5)",
     "output_type": "error",
     "traceback": [
      "\u001b[0;36m  File \u001b[0;32m\"<ipython-input-31-f22c5be3f40e>\"\u001b[0;36m, line \u001b[0;32m5\u001b[0m\n\u001b[0;31m    print \"not linear\"\u001b[0m\n\u001b[0m          ^\u001b[0m\n\u001b[0;31mSyntaxError\u001b[0m\u001b[0;31m:\u001b[0m Missing parentheses in call to 'print'. Did you mean print(\"not linear\")?\n"
     ]
    }
   ],
   "source": [
    "#Exercise 6\n",
    "var(\"a\")\n",
    "def func(f):\n",
    "    if f(x+a)!=f(x)+f(a):\n",
    "        print \"not linear\"\n",
    "    elif f(a*x)!=a*f(x):\n",
    "        print \"not linear\"\n",
    "    elif f(x+a)==f(x)+f(a) and f(a*x)==a*f(x):\n",
    "        print \"linear\""
   ]
  },
  {
   "cell_type": "code",
   "execution_count": 35,
   "metadata": {
    "collapsed": false,
    "scrolled": true
   },
   "outputs": [
    {
     "name": "stdout",
     "output_type": "stream",
     "text": [
      "linear\n"
     ]
    },
    {
     "name": "stderr",
     "output_type": "stream",
     "text": [
      "<ipython-input-35-cbafb901ac56>:2: DeprecationWarning: Substitution using function-call syntax and unnamed arguments is deprecated and will be removed from a future release of Sage; you can use named arguments instead, like EXPR(x=..., y=...)\n",
      "See http://trac.sagemath.org/5930 for details.\n",
      "  func(RealNumber('0.2')*x)\n"
     ]
    }
   ],
   "source": [
    "#Exercise 7\n",
    "func(0.2*x)"
   ]
  },
  {
   "cell_type": "code",
   "execution_count": 34,
   "metadata": {
    "collapsed": false,
    "scrolled": true
   },
   "outputs": [
    {
     "name": "stdout",
     "output_type": "stream",
     "text": [
      "linear\n"
     ]
    },
    {
     "name": "stderr",
     "output_type": "stream",
     "text": [
      "<ipython-input-34-24bf123ece28>:1: DeprecationWarning: Substitution using function-call syntax and unnamed arguments is deprecated and will be removed from a future release of Sage; you can use named arguments instead, like EXPR(x=..., y=...)\n",
      "See http://trac.sagemath.org/5930 for details.\n",
      "  func(Integer(7)*x)\n"
     ]
    }
   ],
   "source": [
    "func(7*x)"
   ]
  },
  {
   "cell_type": "code",
   "execution_count": 33,
   "metadata": {
    "collapsed": false
   },
   "outputs": [
    {
     "name": "stdout",
     "output_type": "stream",
     "text": [
      "not linear\n"
     ]
    },
    {
     "name": "stderr",
     "output_type": "stream",
     "text": [
      "<ipython-input-33-f54c207407da>:1: DeprecationWarning: Substitution using function-call syntax and unnamed arguments is deprecated and will be removed from a future release of Sage; you can use named arguments instead, like EXPR(x=..., y=...)\n",
      "See http://trac.sagemath.org/5930 for details.\n",
      "  func(RealNumber('0.1')*x**Integer(2)+Integer(2)*x+Integer(9))\n"
     ]
    }
   ],
   "source": [
    "func(0.1*x^2+2*x+9)"
   ]
  },
  {
   "cell_type": "code",
   "execution_count": 36,
   "metadata": {
    "collapsed": false
   },
   "outputs": [
    {
     "name": "stdout",
     "output_type": "stream",
     "text": [
      "linear\n"
     ]
    },
    {
     "name": "stderr",
     "output_type": "stream",
     "text": [
      "<ipython-input-36-e50c3ed5c233>:1: DeprecationWarning: Substitution using function-call syntax and unnamed arguments is deprecated and will be removed from a future release of Sage; you can use named arguments instead, like EXPR(x=..., y=...)\n",
      "See http://trac.sagemath.org/5930 for details.\n",
      "  func(Integer(33)*x)\n"
     ]
    }
   ],
   "source": [
    "func(33*x)"
   ]
  },
  {
   "cell_type": "code",
   "execution_count": 43,
   "metadata": {
    "collapsed": false
   },
   "outputs": [
   ],
   "source": [
    "#Exercise 8\n",
    "def f(v):\n",
    "    l1=[4*v[0]-2*v[1], 3*v[0]+v[1]]\n",
    "    v1=vector(l1)\n",
    "    return v1"
   ]
  },
  {
   "cell_type": "code",
   "execution_count": 44,
   "metadata": {
    "collapsed": false
   },
   "outputs": [
    {
     "data": {
      "text/plain": [
       "(4*a - 2*b, 3*a + b)"
      ]
     },
     "execution_count": 44,
     "metadata": {
     },
     "output_type": "execute_result"
    }
   ],
   "source": [
    "var(\"a\", \"b\")\n",
    "f(vector([a,b]))"
   ]
  },
  {
   "cell_type": "code",
   "execution_count": 45,
   "metadata": {
    "collapsed": false,
    "scrolled": true
   },
   "outputs": [
    {
     "data": {
      "text/plain": [
       "(-4, 7)"
      ]
     },
     "execution_count": 45,
     "metadata": {
     },
     "output_type": "execute_result"
    }
   ],
   "source": [
    "f(vector([1,4]))"
   ]
  },
  {
   "cell_type": "code",
   "execution_count": 46,
   "metadata": {
    "collapsed": false
   },
   "outputs": [
   ],
   "source": [
    "#Exercise 9\n",
    "def f(v):\n",
    "    l1=[4*v[0]-2*v[1], 3*v[0]+v[1]] #returning l1 for any vector input\n",
    "    v1=vector(l1)\n",
    "    return v1"
   ]
  },
  {
   "cell_type": "code",
   "execution_count": 49,
   "metadata": {
    "collapsed": false
   },
   "outputs": [
   ],
   "source": [
    "q=vector([2,4])\n",
    "w=f(q)\n",
    "\n",
    "e=vector([5,6])\n",
    "g=f(e)\n",
    "\n",
    "r=vector([6,9])\n",
    "y=f(r)"
   ]
  },
  {
   "cell_type": "code",
   "execution_count": 50,
   "metadata": {
    "collapsed": false
   },
   "outputs": [
    {
     "data": {
      "image/png": "[encoded data removed]",
      "text/plain": [
       "Graphics object consisting of 2 graphics primitives"
      ]
     },
     "execution_count": 50,
     "metadata": {
     },
     "output_type": "execute_result"
    }
   ],
   "source": [
    "plot(q, color=\"red\")+plot(w)\n",
    "plot(e, color=\"red\")+plot(g)\n",
    "plot(r, color=\"red\")+plot(y)"
   ]
  },
  {
   "cell_type": "code",
   "execution_count": 51,
   "metadata": {
    "collapsed": false
   },
   "outputs": [
   ],
   "source": [
    "#Exercise 10\n",
    "def shinee(v):\n",
    "    l1=[3*v[0]-2*v[1],5*v[0]+v[1],v[2]]\n",
    "    v1=vector(l1)\n",
    "    return v1"
   ]
  },
  {
   "cell_type": "code",
   "execution_count": 52,
   "metadata": {
    "collapsed": false
   },
   "outputs": [
    {
     "data": {
      "text/plain": [
       "(37, 118, 8)"
      ]
     },
     "execution_count": 52,
     "metadata": {
     },
     "output_type": "execute_result"
    }
   ],
   "source": [
    "shinee(vector([21,13,8]))"
   ]
  },
  {
   "cell_type": "code",
   "execution_count": 54,
   "metadata": {
    "collapsed": false
   },
   "outputs": [
   ],
   "source": [
    "#exercise 11\n",
    "def blackBear(t):\n",
    "    l1=[0.57*t[0]+0.5025*t[1],0.33*t[0]+0.917*t[1]]\n",
    "    v1=vector(l1)\n",
    "    return v1"
   ]
  },
  {
   "cell_type": "code",
   "execution_count": 55,
   "metadata": {
    "collapsed": false
   },
   "outputs": [
    {
     "data": {
      "text/plain": [
       "(0.502500000000000*a + 0.570000000000000*j, 0.917000000000000*a + 0.330000000000000*j)"
      ]
     },
     "execution_count": 55,
     "metadata": {
     },
     "output_type": "execute_result"
    }
   ],
   "source": [
    "var(\"j\", \"a\")\n",
    "blackBear(vector([j,a]))"
   ]
  },
  {
   "cell_type": "code",
   "execution_count": 56,
   "metadata": {
    "collapsed": false
   },
   "outputs": [
    {
     "data": {
      "text/plain": [
       "(17.4600000000000, 22.6300000000000)"
      ]
     },
     "execution_count": 56,
     "metadata": {
     },
     "output_type": "execute_result"
    }
   ],
   "source": [
    "#exercise 12\n",
    "blackBear(vector([13,20]))"
   ]
  },
  {
   "cell_type": "code",
   "execution_count": 57,
   "metadata": {
    "collapsed": false
   },
   "outputs": [
   ],
   "source": [
    "#Exercise 13\n",
    "def blackBear(t):\n",
    "    l1=[0.57*t[0]+0.5025*t[1],0.33*t[0]+0.917*t[1]] \n",
    "    v1=vector(l1)\n",
    "    return v1"
   ]
  },
  {
   "cell_type": "code",
   "execution_count": 58,
   "metadata": {
    "collapsed": false
   },
   "outputs": [
    {
     "data": {
      "text/html": [
       "<html><script type=\"math/tex; mode=display\">\\newcommand{\\Bold}[1]{\\mathbf{#1}}\\left(0.570000000000000,\\,0.330000000000000\\right)</script></html>"
      ],
      "text/latex": [
       "\\begin{math}\n",
       "\\newcommand{\\Bold}[1]{\\mathbf{#1}}\\left(0.570000000000000,\\,0.330000000000000\\right)\n",
       "\\end{math}"
      ],
      "text/plain": [
       "(0.570000000000000, 0.330000000000000)"
      ]
     },
     "execution_count": 58,
     "metadata": {
     },
     "output_type": "execute_result"
    }
   ],
   "source": [
    "list1=blackBear(vector([1,0]))\n",
    "show(list1)"
   ]
  },
  {
   "cell_type": "code",
   "execution_count": 60,
   "metadata": {
    "collapsed": false
   },
   "outputs": [
    {
     "data": {
      "text/html": [
       "<html><script type=\"math/tex; mode=display\">\\newcommand{\\Bold}[1]{\\mathbf{#1}}\\left(0.502500000000000,\\,0.917000000000000\\right)</script></html>"
      ],
      "text/latex": [
       "\\begin{math}\n",
       "\\newcommand{\\Bold}[1]{\\mathbf{#1}}\\left(0.502500000000000,\\,0.917000000000000\\right)\n",
       "\\end{math}"
      ],
      "text/plain": [
       "(0.502500000000000, 0.917000000000000)"
      ]
     },
     "execution_count": 60,
     "metadata": {
     },
     "output_type": "execute_result"
    }
   ],
   "source": [
    "list2=blackBear(vector([0,1]))\n",
    "show(list2)"
   ]
  },
  {
   "cell_type": "code",
   "execution_count": 62,
   "metadata": {
    "collapsed": false
   },
   "outputs": [
    {
     "data": {
      "image/png": "[encoded data removed]",
      "text/plain": [
       "Graphics object consisting of 4 graphics primitives"
      ]
     },
     "execution_count": 62,
     "metadata": {
     },
     "output_type": "execute_result"
    }
   ],
   "source": [
    "plot(list1, legend_label=\"Resulting (1,0)\", legend_color=\"green\")+plot(list2, color=\"orange\", aspect_ratio=1,legend_label=\"Resulting (0,1)\", legend_color=\"green\")+plot((vector([1,0])), legend_label=\"Original(1,0)\", color=\"blue\", legend_color=\"green\")+ plot((vector([0,1])), legend_label=\"Original(0,1)\", color=\"red\", legend_color=\"green\")"
   ]
  },
  {
   "cell_type": "code",
   "execution_count": 65,
   "metadata": {
    "collapsed": false
   },
   "outputs": [
    {
     "data": {
      "image/png": "[encoded data removed]",
      "text/plain": [
       "Graphics object consisting of 3 graphics primitives"
      ]
     },
     "execution_count": 65,
     "metadata": {
     },
     "output_type": "execute_result"
    }
   ],
   "source": [
    "#Exercise 15\n",
    "list3=plot(67*blackBear(vector([1,0])), aspect_ratio=1, color=\"lime\")\n",
    "\n",
    "list4=plot(11*blackBear(vector([0,1])), aspect_ratio=1, color=\"teal\")\n",
    "\n",
    "list3+list4+plot(67*blackBear(vector([1,0]))+(11*blackBear(vector([0,1]))))"
   ]
  },
  {
   "cell_type": "code",
   "execution_count": 1,
   "metadata": {
    "collapsed": false
   },
   "outputs": [
    {
     "ename": "NameError",
     "evalue": "name 'blackBear' is not defined",
     "output_type": "error",
     "traceback": [
      "\u001b[0;31m---------------------------------------------------------------------------\u001b[0m",
      "\u001b[0;31mNameError\u001b[0m                                 Traceback (most recent call last)",
      "\u001b[0;32m<ipython-input-1-612c60674d3d>\u001b[0m in \u001b[0;36m<module>\u001b[0;34m\u001b[0m\n\u001b[1;32m      1\u001b[0m \u001b[0;31m#Exercise 16\u001b[0m\u001b[0;34m\u001b[0m\u001b[0;34m\u001b[0m\u001b[0;34m\u001b[0m\u001b[0m\n\u001b[0;32m----> 2\u001b[0;31m \u001b[0mblackBear\u001b[0m\u001b[0;34m(\u001b[0m\u001b[0mvector\u001b[0m\u001b[0;34m(\u001b[0m\u001b[0;34m[\u001b[0m\u001b[0mInteger\u001b[0m\u001b[0;34m(\u001b[0m\u001b[0;36m23\u001b[0m\u001b[0;34m)\u001b[0m\u001b[0;34m,\u001b[0m\u001b[0mInteger\u001b[0m\u001b[0;34m(\u001b[0m\u001b[0;36m99\u001b[0m\u001b[0;34m)\u001b[0m\u001b[0;34m]\u001b[0m\u001b[0;34m)\u001b[0m\u001b[0;34m)\u001b[0m\u001b[0;34m\u001b[0m\u001b[0;34m\u001b[0m\u001b[0m\n\u001b[0m\u001b[1;32m      3\u001b[0m \u001b[0;34m\u001b[0m\u001b[0m\n\u001b[1;32m      4\u001b[0m \u001b[0mlist3\u001b[0m\u001b[0;34m=\u001b[0m\u001b[0mplot\u001b[0m\u001b[0;34m(\u001b[0m\u001b[0mInteger\u001b[0m\u001b[0;34m(\u001b[0m\u001b[0;36m23\u001b[0m\u001b[0;34m)\u001b[0m\u001b[0;34m*\u001b[0m\u001b[0mblackBear\u001b[0m\u001b[0;34m(\u001b[0m\u001b[0mvector\u001b[0m\u001b[0;34m(\u001b[0m\u001b[0;34m[\u001b[0m\u001b[0mInteger\u001b[0m\u001b[0;34m(\u001b[0m\u001b[0;36m1\u001b[0m\u001b[0;34m)\u001b[0m\u001b[0;34m,\u001b[0m\u001b[0mInteger\u001b[0m\u001b[0;34m(\u001b[0m\u001b[0;36m0\u001b[0m\u001b[0;34m)\u001b[0m\u001b[0;34m]\u001b[0m\u001b[0;34m)\u001b[0m\u001b[0;34m)\u001b[0m\u001b[0;34m,\u001b[0m \u001b[0maspect_ratio\u001b[0m\u001b[0;34m=\u001b[0m\u001b[0mInteger\u001b[0m\u001b[0;34m(\u001b[0m\u001b[0;36m1\u001b[0m\u001b[0;34m)\u001b[0m\u001b[0;34m,\u001b[0m \u001b[0mcolor\u001b[0m\u001b[0;34m=\u001b[0m\u001b[0;34m\"aqua\"\u001b[0m\u001b[0;34m)\u001b[0m\u001b[0;34m\u001b[0m\u001b[0;34m\u001b[0m\u001b[0m\n\u001b[1;32m      5\u001b[0m \u001b[0mlist4\u001b[0m\u001b[0;34m=\u001b[0m\u001b[0mplot\u001b[0m\u001b[0;34m(\u001b[0m\u001b[0mInteger\u001b[0m\u001b[0;34m(\u001b[0m\u001b[0;36m99\u001b[0m\u001b[0;34m)\u001b[0m\u001b[0;34m*\u001b[0m\u001b[0mblackBear\u001b[0m\u001b[0;34m(\u001b[0m\u001b[0mvector\u001b[0m\u001b[0;34m(\u001b[0m\u001b[0;34m[\u001b[0m\u001b[0mInteger\u001b[0m\u001b[0;34m(\u001b[0m\u001b[0;36m0\u001b[0m\u001b[0;34m)\u001b[0m\u001b[0;34m,\u001b[0m\u001b[0mInteger\u001b[0m\u001b[0;34m(\u001b[0m\u001b[0;36m1\u001b[0m\u001b[0;34m)\u001b[0m\u001b[0;34m]\u001b[0m\u001b[0;34m)\u001b[0m\u001b[0;34m)\u001b[0m\u001b[0;34m,\u001b[0m \u001b[0maspect_ratio\u001b[0m\u001b[0;34m=\u001b[0m\u001b[0mInteger\u001b[0m\u001b[0;34m(\u001b[0m\u001b[0;36m1\u001b[0m\u001b[0;34m)\u001b[0m\u001b[0;34m,\u001b[0m \u001b[0mcolor\u001b[0m\u001b[0;34m=\u001b[0m\u001b[0;34m\"orange\"\u001b[0m\u001b[0;34m)\u001b[0m\u001b[0;34m\u001b[0m\u001b[0;34m\u001b[0m\u001b[0m\n",
      "\u001b[0;31mNameError\u001b[0m: name 'blackBear' is not defined"
     ]
    }
   ],
   "source": [
    "#Exercise 16\n",
    "blackBear(vector([23,99]))\n",
    "\n",
    "list3=plot(23*blackBear(vector([1,0])), aspect_ratio=1, color=\"aqua\")\n",
    "list4=plot(99*blackBear(vector([0,1])), aspect_ratio=1, color=\"orange\")\n",
    "list3+list4+plot(23*blackBear(vector([1,0]))+(99*blackBear(vector([0,1]))))"
   ]
  },
  {
   "cell_type": "code",
   "execution_count": 0,
   "metadata": {
    "collapsed": false
   },
   "outputs": [
   ],
   "source": [
   ]
  },
  {
   "cell_type": "code",
   "execution_count": 0,
   "metadata": {
    "collapsed": false
   },
   "outputs": [
   ],
   "source": [
   ]
  }
 ],
 "metadata": {
  "kernelspec": {
   "display_name": "SageMath 9.2",
   "language": "sagemath",
   "metadata": {
    "cocalc": {
     "description": "Open-source mathematical software system",
     "priority": 10,
     "url": "https://www.sagemath.org/"
    }
   },
   "name": "sage-9.2",
   "resource_dir": "/ext/jupyter/kernels/sage-9.2"
  },
  "language_info": {
   "codemirror_mode": {
    "name": "ipython",
    "version": 3
   },
   "file_extension": ".py",
   "mimetype": "text/x-python",
   "name": "python",
   "nbconvert_exporter": "python",
   "pygments_lexer": "ipython3",
   "version": "3.8.5"
  }
 },
 "nbformat": 4,
 "nbformat_minor": 4
}