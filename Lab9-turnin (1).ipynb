{
 "cells": [
  {
   "cell_type": "code",
   "execution_count": 0,
   "metadata": {
    "collapsed": false
   },
   "outputs": [
   ],
   "source": [
    "# Name:Diana Olivas\n",
    "# I worked on this code with:\n",
    "\n",
    "# Please do all of your work for this week's lab in this worksheet. If\n",
    "# you wish to create other worksheets for scratch work, you can, but\n",
    "# this is the one that will be graded. You do not need to do anything\n",
    "# to turn in your lab. It will be collected by your TA at the beginning\n",
    "# of (or right before) next week’s lab.\n",
    "\n",
    "# Be sure to clearly label which question you are answering as you go and to\n",
    "# use enough comments that you and the grader can understand your code.\n"
   ]
  },
  {
   "cell_type": "code",
   "execution_count": 2,
   "metadata": {
    "collapsed": false
   },
   "outputs": [
   ],
   "source": [
    "#Exercise 46\n",
    "t=matrix(RDF, [[1, 1] ,[2, 1/2]])"
   ]
  },
  {
   "cell_type": "code",
   "execution_count": 4,
   "metadata": {
    "collapsed": false
   },
   "outputs": [
    {
     "data": {
      "text/plain": [
       "(2.0, 3.0)"
      ]
     },
     "execution_count": 4,
     "metadata": {
     },
     "output_type": "execute_result"
    }
   ],
   "source": [
    "#Exercise 47 & 48\n",
    "t*vector([4/3, 2/3])"
   ]
  },
  {
   "cell_type": "code",
   "execution_count": 5,
   "metadata": {
    "collapsed": false
   },
   "outputs": [
    {
     "data": {
      "text/plain": [
       "(-4.0, -8.0)"
      ]
     },
     "execution_count": 5,
     "metadata": {
     },
     "output_type": "execute_result"
    }
   ],
   "source": [
    "t*vector([ -4 ,0])"
   ]
  },
  {
   "cell_type": "code",
   "execution_count": 6,
   "metadata": {
    "collapsed": false
   },
   "outputs": [
    {
     "data": {
      "text/plain": [
       "(2.9999999999999996, -2.4000000000000004)"
      ]
     },
     "execution_count": 6,
     "metadata": {
     },
     "output_type": "execute_result"
    }
   ],
   "source": [
    "t*vector([ -2.6 ,5.6])"
   ]
  },
  {
   "cell_type": "code",
   "execution_count": 0,
   "metadata": {
    "collapsed": false
   },
   "outputs": [
   ],
   "source": [
    "#I notice that the t matrix successfully converts r,s-coordinates back into the x,y coordinate system."
   ]
  },
  {
   "cell_type": "code",
   "execution_count": 11,
   "metadata": {
    "collapsed": false
   },
   "outputs": [
   ],
   "source": [
    "#Exercise 49\n",
    "w=matrix(RDF, [[ -1/3 ,2/3], [4/3 , -2/3]])"
   ]
  },
  {
   "cell_type": "code",
   "execution_count": 8,
   "metadata": {
    "collapsed": false
   },
   "outputs": [
    {
     "data": {
      "text/plain": [
       "(-4.333333333333333, 5.333333333333333)"
      ]
     },
     "execution_count": 8,
     "metadata": {
     },
     "output_type": "execute_result"
    }
   ],
   "source": [
    "#exercise 50\n",
    "w*vector([1 , -6])"
   ]
  },
  {
   "cell_type": "code",
   "execution_count": 0,
   "metadata": {
    "collapsed": false
   },
   "outputs": [
   ],
   "source": [
    "#Using the R,S coordinates (-4.33, 5.33) which correspond to the point (1,-6) used here( works)"
   ]
  },
  {
   "cell_type": "code",
   "execution_count": 9,
   "metadata": {
    "collapsed": false
   },
   "outputs": [
    {
     "data": {
      "text/plain": [
       "(1.9999999999999998, 2.0)"
      ]
     },
     "execution_count": 9,
     "metadata": {
     },
     "output_type": "execute_result"
    }
   ],
   "source": [
    "#Exercise 51\n",
    "w*vector([4 ,5])"
   ]
  },
  {
   "cell_type": "code",
   "execution_count": 0,
   "metadata": {
    "collapsed": false
   },
   "outputs": [
   ],
   "source": [
    "#Using the R,S coordinates (2, 2) to the point (4,5) used here. This works even with a small rounding error."
   ]
  },
  {
   "cell_type": "code",
   "execution_count": 10,
   "metadata": {
    "collapsed": false
   },
   "outputs": [
    {
     "data": {
      "text/plain": [
       "[-0.3333333333333333  0.6666666666666666]\n",
       "[ 1.3333333333333333 -0.6666666666666666]"
      ]
     },
     "execution_count": 10,
     "metadata": {
     },
     "output_type": "execute_result"
    }
   ],
   "source": [
    "#Exercise 52\n",
    "t.inverse()"
   ]
  },
  {
   "cell_type": "code",
   "execution_count": 12,
   "metadata": {
    "collapsed": false
   },
   "outputs": [
   ],
   "source": [
    "#Exercise 53\n",
    "#The results from the inverse compared to exercise 49 may seem different but they are the same in the sense that they both work properly."
   ]
  },
  {
   "cell_type": "code",
   "execution_count": 13,
   "metadata": {
    "collapsed": false
   },
   "outputs": [
    {
     "data": {
      "text/plain": [
       "[(5.0, [(0.8944271909999159, 0.4472135954999579)], 1),\n",
       " (-1.0, [(0.4472135954999579, 0.8944271909999159)], 1)]"
      ]
     },
     "execution_count": 13,
     "metadata": {
     },
     "output_type": "execute_result"
    }
   ],
   "source": [
    "#Exercise 54\n",
    "m=matrix(RDF, [[7,-4], [4,-3]])\n",
    "m.eigenvectors_right()"
   ]
  },
  {
   "cell_type": "code",
   "execution_count": 14,
   "metadata": {
    "collapsed": false
   },
   "outputs": [
   ],
   "source": [
    "#Eigenvector u=[1,2], a multiple of (0.447213,0.894427), has an eigenvalue of -1, and eigenvector v=[1,0.5], a multiple of (0.894427,0.447213) has an eigenvalue of 5."
   ]
  },
  {
   "cell_type": "code",
   "execution_count": 15,
   "metadata": {
    "collapsed": false
   },
   "outputs": [
    {
     "data": {
      "text/plain": [
       "[   -0.9999999999999998 1.6653345369377348e-16]\n",
       "[                   0.0                    5.0]"
      ]
     },
     "execution_count": 15,
     "metadata": {
     },
     "output_type": "execute_result"
    }
   ],
   "source": [
    "#Exercise 55\n",
    "w*m*t"
   ]
  },
  {
   "cell_type": "code",
   "execution_count": 0,
   "metadata": {
    "collapsed": false
   },
   "outputs": [
   ],
   "source": [
    "#I notice that the product of these matrices composition, gives us a diagonal matrix. The numbers in the diagonal correspond to the eigenvalues that we obtained in #51 and the anti-diagonal should have both numbers as zero or about zero."
   ]
  }
 ],
 "metadata": {
  "kernelspec": {
   "display_name": "SageMath 9.2",
   "language": "sagemath",
   "metadata": {
    "cocalc": {
     "description": "Open-source mathematical software system",
     "priority": 10,
     "url": "https://www.sagemath.org/"
    }
   },
   "name": "sage-9.2",
   "resource_dir": "/ext/jupyter/kernels/sage-9.2"
  },
  "language_info": {
   "codemirror_mode": {
    "name": "ipython",
    "version": 3
   },
   "file_extension": ".py",
   "mimetype": "text/x-python",
   "name": "python",
   "nbconvert_exporter": "python",
   "pygments_lexer": "ipython3",
   "version": "3.8.5"
  }
 },
 "nbformat": 4,
 "nbformat_minor": 4
}