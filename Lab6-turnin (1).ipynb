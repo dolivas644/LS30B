{
 "cells": [
  {
   "cell_type": "code",
   "execution_count": 0,
   "metadata": {
    "collapsed": false
   },
   "outputs": [
   ],
   "source": [
    "# Name:Diana Olivas\n",
    "# I worked on this code with:\n",
    "\n",
    "# Please do all of your work for this week's lab in this worksheet. If\n",
    "# you wish to create other worksheets for scratch work, you can, but\n",
    "# this is the one that will be graded. You do not need to do anything\n",
    "# to turn in your lab. It will be collected by your TA at the beginning\n",
    "# of (or right before) next week’s lab.\n",
    "\n",
    "# Be sure to clearly label which question you are answering as you go and to\n",
    "# use enough comments that you and the grader can understand your code.\n"
   ]
  },
  {
   "cell_type": "code",
   "execution_count": 5,
   "metadata": {
    "collapsed": false
   },
   "outputs": [
   ],
   "source": [
    "#17\n",
    "def bear(x):\n",
    "    g= [0.57*x[0]+0.5025*x[1], 0.33*x[0]+0.917*x[1]]\n",
    "    v1= vector(g)\n",
    "    return v1"
   ]
  },
  {
   "cell_type": "code",
   "execution_count": 6,
   "metadata": {
    "collapsed": false
   },
   "outputs": [
    {
     "data": {
      "text/plain": [
       "(0.570000000000000, 0.330000000000000)"
      ]
     },
     "execution_count": 6,
     "metadata": {
     },
     "output_type": "execute_result"
    }
   ],
   "source": [
    "bear([1,0])"
   ]
  },
  {
   "cell_type": "code",
   "execution_count": 7,
   "metadata": {
    "collapsed": false
   },
   "outputs": [
    {
     "data": {
      "text/plain": [
       "(0.502500000000000, 0.917000000000000)"
      ]
     },
     "execution_count": 7,
     "metadata": {
     },
     "output_type": "execute_result"
    }
   ],
   "source": [
    "bear([0,1])"
   ]
  },
  {
   "cell_type": "code",
   "execution_count": 8,
   "metadata": {
    "collapsed": false
   },
   "outputs": [
    {
     "data": {
      "text/plain": [
       "[0.570000000000000 0.502500000000000]\n",
       "[0.330000000000000 0.917000000000000]"
      ]
     },
     "execution_count": 8,
     "metadata": {
     },
     "output_type": "execute_result"
    }
   ],
   "source": [
    "#Exercise 18\n",
    "v1=vector([0.57,0.33])\n",
    "v2=vector([0.5025,0.917])\n",
    "m=column_matrix([v1,v2])\n",
    "m "
   ]
  },
  {
   "cell_type": "code",
   "execution_count": 9,
   "metadata": {
    "collapsed": false
   },
   "outputs": [
   ],
   "source": [
    "#Exercise 19\n",
    "def lf(v):\n",
    "    l1 = [2*v[0]+3*v[1], 5*v[0]-v[1]]\n",
    "    v1 = vector(l1)\n",
    "    return v1"
   ]
  },
  {
   "cell_type": "code",
   "execution_count": 10,
   "metadata": {
    "collapsed": false
   },
   "outputs": [
   ],
   "source": [
    "def lf1(v):\n",
    "    l1=[1*v[0]+2*v[1], 1*v[0]-v[1]]\n",
    "    v1=vector(l1)\n",
    "    return v1"
   ]
  },
  {
   "cell_type": "code",
   "execution_count": 11,
   "metadata": {
    "collapsed": false
   },
   "outputs": [
   ],
   "source": [
    "#Exercise 20\n",
    "#20\n",
    "var(\"x\", \"y\")\n",
    "v=vector([x,y])\n",
    "lf2=lf1(lf(v))"
   ]
  },
  {
   "cell_type": "code",
   "execution_count": 12,
   "metadata": {
    "collapsed": false
   },
   "outputs": [
    {
     "data": {
      "text/plain": [
       "(12*x + y, -3*x + 4*y)"
      ]
     },
     "execution_count": 12,
     "metadata": {
     },
     "output_type": "execute_result"
    }
   ],
   "source": [
    "lf2"
   ]
  },
  {
   "cell_type": "code",
   "execution_count": 13,
   "metadata": {
    "collapsed": false
   },
   "outputs": [
   ],
   "source": [
    "#Exercise 21\n",
    "v=vector([0,1])\n",
    "lf3=lf1(lf(v))\n",
    "v1=vector([1,0])\n",
    "lf3a=lf1(lf(v1))"
   ]
  },
  {
   "cell_type": "code",
   "execution_count": 14,
   "metadata": {
    "collapsed": false
   },
   "outputs": [
    {
     "data": {
      "text/plain": [
       "[ 1 12]\n",
       "[ 4 -3]"
      ]
     },
     "execution_count": 14,
     "metadata": {
     },
     "output_type": "execute_result"
    }
   ],
   "source": [
    "column_matrix([lf3, lf3a])"
   ]
  },
  {
   "cell_type": "code",
   "execution_count": 15,
   "metadata": {
    "collapsed": false
   },
   "outputs": [
    {
     "data": {
      "text/plain": [
       "[0.570000000000000 0.502500000000000]\n",
       "[0.330000000000000 0.917000000000000]"
      ]
     },
     "execution_count": 15,
     "metadata": {
     },
     "output_type": "execute_result"
    }
   ],
   "source": [
    "#Exercise 22\n",
    "mlist=[[0.57,0.5025], [0.33,0.917]]\n",
    "M=matrix(mlist)\n",
    "M"
   ]
  },
  {
   "cell_type": "code",
   "execution_count": 16,
   "metadata": {
    "collapsed": false
   },
   "outputs": [
   ],
   "source": [
    "blist=[[0.45,0.4], [0.25,0.8]]\n",
    "B=matrix(blist)"
   ]
  },
  {
   "cell_type": "code",
   "execution_count": 17,
   "metadata": {
    "collapsed": false
   },
   "outputs": [
    {
     "data": {
      "image/png": "[encoded data removed]",
      "text/plain": [
       "Graphics object consisting of 2 graphics primitives"
      ]
     },
     "execution_count": 17,
     "metadata": {
     },
     "output_type": "execute_result"
    }
   ],
   "source": [
    "#Exercise 23\n",
    "v=vector([13,20])\n",
    "plot(vector([0.57,0.5025], [0.33,0.917]), color=\"aqua\")+ plot(vector([13,20]), color=\"pink\")"
   ]
  },
  {
   "cell_type": "code",
   "execution_count": 18,
   "metadata": {
    "collapsed": false
   },
   "outputs": [
    {
     "data": {
      "image/png": "[encoded data removed]",
      "text/plain": [
       "Graphics object consisting of 2 graphics primitives"
      ]
     },
     "execution_count": 18,
     "metadata": {
     },
     "output_type": "execute_result"
    }
   ],
   "source": [
    "plot(vector([0.45,0.4], [0.25,0.8]), color=\"aqua\")+ plot(vector([13,20]), color=\"pink\")"
   ]
  },
  {
   "cell_type": "code",
   "execution_count": 19,
   "metadata": {
    "collapsed": false,
    "scrolled": true
   },
   "outputs": [
    {
     "data": {
      "text/plain": [
       "[0.490725000000000 0.747217500000000]\n",
       "[0.490710000000000  1.00671400000000]"
      ]
     },
     "execution_count": 19,
     "metadata": {
     },
     "output_type": "execute_result"
    }
   ],
   "source": [
    "#Exercise 24\n",
    "M^2"
   ]
  },
  {
   "cell_type": "code",
   "execution_count": 20,
   "metadata": {
    "collapsed": false,
    "scrolled": true
   },
   "outputs": [
    {
     "data": {
      "text/plain": [
       "[0.465164405062500 0.866735053900000]\n",
       "[0.617288232112500  1.15679017462000]"
      ]
     },
     "execution_count": 20,
     "metadata": {
     },
     "output_type": "execute_result"
    }
   ],
   "source": [
    "(B)^2*(M)^3"
   ]
  },
  {
   "cell_type": "code",
   "execution_count": 21,
   "metadata": {
    "collapsed": false
   },
   "outputs": [
    {
     "data": {
      "text/plain": [
       "[0.425711250000000 0.769727812500000]\n",
       "[0.500965500000000 0.983574575000000]"
      ]
     },
     "execution_count": 21,
     "metadata": {
     },
     "output_type": "execute_result"
    }
   ],
   "source": [
    "M*B*M"
   ]
  },
  {
   "cell_type": "code",
   "execution_count": 22,
   "metadata": {
    "collapsed": false
   },
   "outputs": [
    {
     "data": {
      "image/png": "[encoded data removed]",
      "text/plain": [
       "Graphics object consisting of 1 graphics primitive"
      ]
     },
     "execution_count": 22,
     "metadata": {
     },
     "output_type": "execute_result"
    }
   ],
   "source": [
    "#Exercise 25\n",
    "plot(M^2*v)"
   ]
  },
  {
   "cell_type": "code",
   "execution_count": 23,
   "metadata": {
    "collapsed": false
   },
   "outputs": [
    {
     "data": {
      "image/png": "[encoded data removed]",
      "text/plain": [
       "Graphics object consisting of 1 graphics primitive"
      ]
     },
     "execution_count": 23,
     "metadata": {
     },
     "output_type": "execute_result"
    }
   ],
   "source": [
    "plot(B^2*M^3*v)"
   ]
  },
  {
   "cell_type": "code",
   "execution_count": 24,
   "metadata": {
    "collapsed": false
   },
   "outputs": [
    {
     "data": {
      "image/png": "[encoded data removed]",
      "text/plain": [
       "Graphics object consisting of 1 graphics primitive"
      ]
     },
     "execution_count": 24,
     "metadata": {
     },
     "output_type": "execute_result"
    }
   ],
   "source": [
    "plot(M*B*M*v)"
   ]
  },
  {
   "cell_type": "code",
   "execution_count": 31,
   "metadata": {
    "collapsed": false
   },
   "outputs": [
    {
     "data": {
      "text/html": [
       "<html><script type=\"math/tex; mode=display\">\\newcommand{\\Bold}[1]{\\mathbf{#1}}4</script></html>"
      ],
      "text/latex": [
       "\\begin{math}\n",
       "\\newcommand{\\Bold}[1]{\\mathbf{#1}}4\n",
       "\\end{math}"
      ],
      "text/plain": [
       "4"
      ]
     },
     "execution_count": 31,
     "metadata": {
     },
     "output_type": "execute_result"
    }
   ],
   "source": [
    "#Exercise 26\n",
    "v1=vector([3,5,1])\n",
    "v2=vector([1,-1,6])\n",
    "\n",
    "sum=0\n",
    "for i in srange(0,3):\n",
    "    sum=v1[i]*v2[i]+sum\n",
    "show(sum)"
   ]
  },
  {
   "cell_type": "code",
   "execution_count": 49,
   "metadata": {
    "collapsed": false
   },
   "outputs": [
   ],
   "source": [
    "#Exercise 27\n",
    "def calc (f1, f2):\n",
    "    sum=0\n",
    "    for i in srange(len(f1)):\n",
    "        answer=f1[i]*f2[i]\n",
    "        sum=sum+answer\n",
    "    return(sum)"
   ]
  },
  {
   "cell_type": "code",
   "execution_count": 50,
   "metadata": {
    "collapsed": false
   },
   "outputs": [
    {
     "data": {
      "text/plain": [
       "2"
      ]
     },
     "execution_count": 50,
     "metadata": {
     },
     "output_type": "execute_result"
    }
   ],
   "source": [
    "#Exercise 28\n",
    "A=matrix([[4,7,9], [-2,4,6]]) \n",
    "B=matrix([[-3,5], [7,8], [2,4]])\n",
    "A.dimensions()[0]"
   ]
  },
  {
   "cell_type": "code",
   "execution_count": 51,
   "metadata": {
    "collapsed": false
   },
   "outputs": [
    {
     "data": {
      "text/plain": [
       "2"
      ]
     },
     "execution_count": 51,
     "metadata": {
     },
     "output_type": "execute_result"
    }
   ],
   "source": [
    "B.dimensions()[1]"
   ]
  },
  {
   "cell_type": "code",
   "execution_count": 52,
   "metadata": {
    "collapsed": false
   },
   "outputs": [
    {
     "data": {
      "text/plain": [
       "[0.000000000000000 0.000000000000000]\n",
       "[0.000000000000000 0.000000000000000]"
      ]
     },
     "execution_count": 52,
     "metadata": {
     },
     "output_type": "execute_result"
    }
   ],
   "source": [
    "zero_matrix(RR,A.dimensions()[0],B.dimensions()[1])"
   ]
  },
  {
   "cell_type": "code",
   "execution_count": 53,
   "metadata": {
    "collapsed": false
   },
   "outputs": [
    {
     "data": {
      "text/plain": [
       "[55.0000000000000 112.000000000000]\n",
       "[46.0000000000000 46.0000000000000]"
      ]
     },
     "execution_count": 53,
     "metadata": {
     },
     "output_type": "execute_result"
    }
   ],
   "source": [
    "#Exercise 29\n",
    "p=zero_matrix(RR,A.dimensions()[0], B.dimensions()[1])\n",
    "for i in srange(0,A.dimensions()[0]):\n",
    "    for j in srange (0,B.dimensions()[1]):\n",
    "        p[i,j]=calc(A.row(i),B.column(j))\n",
    "p"
   ]
  },
  {
   "cell_type": "code",
   "execution_count": 55,
   "metadata": {
    "collapsed": false
   },
   "outputs": [
   ],
   "source": [
    "#exercise 30\n",
    "def multmatrix(m1,m2):\n",
    "    answer1=zero_matrix(RR,m1.dimensions()[0], m2.dimensions()[1])\n",
    "    for j in srange(0,m1.dimensions()[0]):\n",
    "        for i in srange(0,m2.dimensions()[1]):\n",
    "            product=calc(m1.row(j),m2.column(i))\n",
    "            answer1[j,i]=product\n",
    "    return answer1"
   ]
  },
  {
   "cell_type": "code",
   "execution_count": 56,
   "metadata": {
    "collapsed": false
   },
   "outputs": [
    {
     "data": {
      "text/plain": [
       "[   1    4]\n",
       "[  13 -113]\n",
       "[  23   34]\n",
       "[  51    4]"
      ]
     },
     "execution_count": 56,
     "metadata": {
     },
     "output_type": "execute_result"
    }
   ],
   "source": [
    "mat1list=[[1,4],[13,-113],[23,34],[51,4]]\n",
    "mat1=matrix(mat1list)\n",
    "mat1"
   ]
  },
  {
   "cell_type": "code",
   "execution_count": 57,
   "metadata": {
    "collapsed": false
   },
   "outputs": [
    {
     "data": {
      "text/plain": [
       "[ 32   2   5]\n",
       "[-10  22 -15]"
      ]
     },
     "execution_count": 57,
     "metadata": {
     },
     "output_type": "execute_result"
    }
   ],
   "source": [
    "mat2list=[[32,2,5],[-10,22,-15]]\n",
    "mat2=matrix(mat2list)\n",
    "mat2"
   ]
  },
  {
   "cell_type": "code",
   "execution_count": 58,
   "metadata": {
    "collapsed": false
   },
   "outputs": [
    {
     "data": {
      "text/plain": [
       "[-8.00000000000000  90.0000000000000 -55.0000000000000]\n",
       "[ 1546.00000000000 -2460.00000000000  1760.00000000000]\n",
       "[ 396.000000000000  794.000000000000 -395.000000000000]\n",
       "[ 1592.00000000000  190.000000000000  195.000000000000]"
      ]
     },
     "execution_count": 58,
     "metadata": {
     },
     "output_type": "execute_result"
    }
   ],
   "source": [
    "multmatrix(mat1,mat2)"
   ]
  },
  {
   "cell_type": "code",
   "execution_count": 0,
   "metadata": {
    "collapsed": false
   },
   "outputs": [
   ],
   "source": [
    "#Exercise 31\n",
    "def mult_test(m1,m2):\n",
    "    if m1.dimensions()[1]==m2.dimensions()[0]:\n",
    "        def multmatrix(m1,m2):\n",
    "            answer1=zero_matrix(RR, m1.dimensions()[0], m2.dimensions()[1])\n",
    "            for j in srange (m1.dimensons()[1]):\n",
    "                product=dot_product(m1.row(i),m2.colum(j))\n",
    "                ans1[i,j]=product\n",
    "            return ans1\n",
    "    else:\n",
    "        print \"Error: Cannot be multiplied\""
   ]
  }
 ],
 "metadata": {
  "kernelspec": {
   "display_name": "SageMath 9.2",
   "language": "sagemath",
   "metadata": {
    "cocalc": {
     "description": "Open-source mathematical software system",
     "priority": 1,
     "url": "https://www.sagemath.org/"
    }
   },
   "name": "sage-9.2",
   "resource_dir": "/ext/jupyter/kernels/sage-9.2"
  },
  "language_info": {
   "codemirror_mode": {
    "name": "ipython",
    "version": 3
   },
   "file_extension": ".py",
   "mimetype": "text/x-python",
   "name": "python",
   "nbconvert_exporter": "python",
   "pygments_lexer": "ipython3",
   "version": "3.8.5"
  }
 },
 "nbformat": 4,
 "nbformat_minor": 4
}